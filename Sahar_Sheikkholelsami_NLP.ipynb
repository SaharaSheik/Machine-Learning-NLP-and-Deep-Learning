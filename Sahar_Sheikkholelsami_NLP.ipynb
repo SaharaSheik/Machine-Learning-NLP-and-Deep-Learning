{
  "cells": [
    {
      "cell_type": "markdown",
      "metadata": {
        "id": "view-in-github",
        "colab_type": "text"
      },
      "source": [
        "<a href=\"https://colab.research.google.com/github/SaharaSheik/NLP-and-Deep-Learning-/blob/main/Sahar_Sheikkholelsami_NLP.ipynb\" target=\"_parent\"><img src=\"https://colab.research.google.com/assets/colab-badge.svg\" alt=\"Open In Colab\"/></a>"
      ]
    },
    {
      "cell_type": "markdown",
      "id": "0dece2ec",
      "metadata": {
        "id": "0dece2ec"
      },
      "source": [
        "# This jupyter notebook is prepared by “Sahar Sheikholeslami”.\n"
      ]
    },
    {
      "cell_type": "code",
      "source": [
        "from google.colab import drive\n",
        "drive.mount('/content/drive')"
      ],
      "metadata": {
        "colab": {
          "base_uri": "https://localhost:8080/"
        },
        "id": "oiey9m8xqvMb",
        "outputId": "8e8807c2-2667-46b1-c0b6-7878ff42ba6f"
      },
      "id": "oiey9m8xqvMb",
      "execution_count": null,
      "outputs": [
        {
          "output_type": "stream",
          "name": "stdout",
          "text": [
            "Drive already mounted at /content/drive; to attempt to forcibly remount, call drive.mount(\"/content/drive\", force_remount=True).\n"
          ]
        }
      ]
    },
    {
      "cell_type": "markdown",
      "id": "86087e7a",
      "metadata": {
        "id": "86087e7a"
      },
      "source": [
        "## 1. Load Data and perform basic EDA "
      ]
    },
    {
      "cell_type": "markdown",
      "id": "31813b1e",
      "metadata": {
        "id": "31813b1e"
      },
      "source": [
        "### I. import libraries necessary libraries and perform necessariy nltk download operations"
      ]
    },
    {
      "cell_type": "code",
      "execution_count": null,
      "id": "3edade93",
      "metadata": {
        "colab": {
          "base_uri": "https://localhost:8080/"
        },
        "id": "3edade93",
        "outputId": "a40ca703-0c66-44d5-ed65-9f18f8c71b9b"
      },
      "outputs": [
        {
          "output_type": "stream",
          "name": "stdout",
          "text": [
            "Requirement already satisfied: wordcloud in /usr/local/lib/python3.7/dist-packages (1.5.0)\n",
            "Requirement already satisfied: pillow in /usr/local/lib/python3.7/dist-packages (from wordcloud) (7.1.2)\n",
            "Requirement already satisfied: numpy>=1.6.1 in /usr/local/lib/python3.7/dist-packages (from wordcloud) (1.21.6)\n"
          ]
        }
      ],
      "source": [
        "pip install wordcloud"
      ]
    },
    {
      "cell_type": "code",
      "execution_count": null,
      "id": "bce8c3a1",
      "metadata": {
        "id": "bce8c3a1"
      },
      "outputs": [],
      "source": [
        "import pandas as pd\n",
        "import nltk   \n",
        "import matplotlib.pyplot as plt\n",
        "from wordcloud import WordCloud\n",
        "from nltk.stem import WordNetLemmatizer \n",
        "from nltk.corpus import stopwords\n",
        "from nltk.stem import PorterStemmer\n",
        "from nltk.stem import LancasterStemmer\n",
        "import numpy as np\n",
        "import seaborn as sns\n",
        "import missingno as msno\n",
        "import matplotlib as mpl\n",
        "import matplotlib.pyplot as plt\n",
        "%matplotlib inline\n",
        "import scipy.stats as st\n",
        "from sklearn import tree, ensemble, linear_model\n",
        "import missingno as msno"
      ]
    },
    {
      "cell_type": "code",
      "execution_count": null,
      "id": "1227f467",
      "metadata": {
        "colab": {
          "base_uri": "https://localhost:8080/"
        },
        "id": "1227f467",
        "outputId": "1c13cd6d-66ed-4776-a5a6-d20d6477b1ed"
      },
      "outputs": [
        {
          "output_type": "stream",
          "name": "stdout",
          "text": [
            "[nltk_data] Downloading package wordnet to /root/nltk_data...\n",
            "[nltk_data]   Unzipping corpora/wordnet.zip.\n",
            "[nltk_data] Downloading package averaged_perceptron_tagger to\n",
            "[nltk_data]     /root/nltk_data...\n",
            "[nltk_data]   Unzipping taggers/averaged_perceptron_tagger.zip.\n",
            "[nltk_data] Downloading package punkt to /root/nltk_data...\n",
            "[nltk_data]   Unzipping tokenizers/punkt.zip.\n"
          ]
        },
        {
          "output_type": "execute_result",
          "data": {
            "text/plain": [
              "True"
            ]
          },
          "metadata": {},
          "execution_count": 6
        }
      ],
      "source": [
        "nltk.download('wordnet') # we will use wordnet lemmatizer\n",
        "nltk.download('averaged_perceptron_tagger') #to be used for tagger\n",
        "nltk.download('punkt') "
      ]
    },
    {
      "cell_type": "markdown",
      "id": "b1132631",
      "metadata": {
        "id": "b1132631"
      },
      "source": [
        "### II. As part of understanding how the columns are separated, read the file using the open function and create a list and show the first 10 items in the list"
      ]
    },
    {
      "cell_type": "code",
      "execution_count": null,
      "id": "11cf873e",
      "metadata": {
        "colab": {
          "base_uri": "https://localhost:8080/"
        },
        "id": "11cf873e",
        "outputId": "8db89257-8ea8-451c-a8c1-a9c034985743"
      },
      "outputs": [
        {
          "output_type": "stream",
          "name": "stdout",
          "text": [
            "44955\n"
          ]
        }
      ],
      "source": [
        "\n",
        "filename = \"/content/drive/MyDrive/Colab Notebooks/news.csv\"\n",
        "messages = [line.rstrip() for line in open(filename, encoding=\"utf8\")]\n",
        "print(len(messages))\n",
        "\n"
      ]
    },
    {
      "cell_type": "code",
      "execution_count": null,
      "id": "f0ab5047",
      "metadata": {
        "colab": {
          "base_uri": "https://localhost:8080/"
        },
        "id": "f0ab5047",
        "outputId": "0ccbcd08-4a14-432e-fa79-e0b54b90d01b"
      },
      "outputs": [
        {
          "output_type": "stream",
          "name": "stdout",
          "text": [
            "title\ttext\tsubject\tdate\ttarget\n",
            "\n",
            "\n",
            "As U.S. budget fight looms, Republicans flip their fiscal script\tWASHINGTON (Reuters) - The head of a conservative Republican faction in the U.S. Congress, who voted this month for a huge expansion of the national debt to pay for tax cuts, called himself a “fiscal conservative” on Sunday and urged budget restraint in 2018. In keeping with a sharp pivot under way among Republicans, U.S. Representative Mark Meadows, speaking on CBS’ “Face the Nation,” drew a hard line on federal spending, which lawmakers are bracing to do battle over in January. When they return from the holidays on Wednesday, lawmakers will begin trying to pass a federal budget in a fight likely to be linked to other issues, such as immigration policy, even as the November congressional election campaigns approach in which Republicans will seek to keep control of Congress. President Donald Trump and his Republicans want a big budget increase in military spending, while Democrats also want proportional increases for non-defense “discretionary” spending on programs that support education, scientific research, infrastructure, public health and environmental protection. “The (Trump) administration has already been willing to say: ‘We’re going to increase non-defense discretionary spending ... by about 7 percent,’” Meadows, chairman of the small but influential House Freedom Caucus, said on the program. “Now, Democrats are saying that’s not enough, we need to give the government a pay raise of 10 to 11 percent. For a fiscal conservative, I don’t see where the rationale is. ... Eventually you run out of other people’s money,” he said. Meadows was among Republicans who voted in late December for their party’s debt-financed tax overhaul, which is expected to balloon the federal budget deficit and add about $1.5 trillion over 10 years to the $20 trillion national debt. “It’s interesting to hear Mark talk about fiscal responsibility,” Democratic U.S. Representative Joseph Crowley said on CBS. Crowley said the Republican tax bill would require the  United States to borrow $1.5 trillion, to be paid off by future generations, to finance tax cuts for corporations and the rich. “This is one of the least ... fiscally responsible bills we’ve ever seen passed in the history of the House of Representatives. I think we’re going to be paying for this for many, many years to come,” Crowley said. Republicans insist the tax package, the biggest U.S. tax overhaul in more than 30 years,  will boost the economy and job growth. House Speaker Paul Ryan, who also supported the tax bill, recently went further than Meadows, making clear in a radio interview that welfare or “entitlement reform,” as the party often calls it, would be a top Republican priority in 2018. In Republican parlance, “entitlement” programs mean food stamps, housing assistance, Medicare and Medicaid health insurance for the elderly, poor and disabled, as well as other programs created by Washington to assist the needy. Democrats seized on Ryan’s early December remarks, saying they showed Republicans would try to pay for their tax overhaul by seeking spending cuts for social programs. But the goals of House Republicans may have to take a back seat to the Senate, where the votes of some Democrats will be needed to approve a budget and prevent a government shutdown. Democrats will use their leverage in the Senate, which Republicans narrowly control, to defend both discretionary non-defense programs and social spending, while tackling the issue of the “Dreamers,” people brought illegally to the country as children. Trump in September put a March 2018 expiration date on the Deferred Action for Childhood Arrivals, or DACA, program, which protects the young immigrants from deportation and provides them with work permits. The president has said in recent Twitter messages he wants funding for his proposed Mexican border wall and other immigration law changes in exchange for agreeing to help the Dreamers. Representative Debbie Dingell told CBS she did not favor linking that issue to other policy objectives, such as wall funding. “We need to do DACA clean,” she said.  On Wednesday, Trump aides will meet with congressional leaders to discuss those issues. That will be followed by a weekend of strategy sessions for Trump and Republican leaders on Jan. 6 and 7, the White House said. Trump was also scheduled to meet on Sunday with Florida Republican Governor Rick Scott, who wants more emergency aid. The House has passed an $81 billion aid package after hurricanes in Florida, Texas and Puerto Rico, and wildfires in California. The package far exceeded the $44 billion requested by the Trump administration. The Senate has not yet voted on the aid. \tpoliticsNews\tDecember 31, 2017 \t1\n",
            "\n",
            "\n",
            "U.S. military to accept transgender recruits on Monday: Pentagon\tWASHINGTON (Reuters) - Transgender people will be allowed for the first time to enlist in the U.S. military starting on Monday as ordered by federal courts, the Pentagon said on Friday, after President Donald Trump’s administration decided not to appeal rulings that blocked his transgender ban. Two federal appeals courts, one in Washington and one in Virginia, last week rejected the administration’s request to put on hold orders by lower court judges requiring the military to begin accepting transgender recruits on Jan. 1. A Justice Department official said the administration will not challenge those rulings. “The Department of Defense has announced that it will be releasing an independent study of these issues in the coming weeks. So rather than litigate this interim appeal before that occurs, the administration has decided to wait for DOD’s study and will continue to defend the president’s lawful authority in District Court in the meantime,” the official said, speaking on condition of anonymity. In September, the Pentagon said it had created a panel of senior officials to study how to implement a directive by Trump to prohibit transgender individuals from serving. The Defense Department has until Feb. 21 to submit a plan to Trump. Lawyers representing currently-serving transgender service members and aspiring recruits said they had expected the administration to appeal the rulings to the conservative-majority Supreme Court, but were hoping that would not happen. Pentagon spokeswoman Heather Babb said in a statement: “As mandated by court order, the Department of Defense is prepared to begin accessing transgender applicants for military service Jan. 1. All applicants must meet all accession standards.” Jennifer Levi, a lawyer with gay, lesbian and transgender advocacy group GLAD, called the decision not to appeal “great news.” “I’m hoping it means the government has come to see that there is no way to justify a ban and that it’s not good for the military or our country,” Levi said. Both GLAD and the American Civil Liberties Union represent plaintiffs in the lawsuits filed against the administration. In a move that appealed to his hard-line conservative supporters, Trump announced in July that he would prohibit transgender people from serving in the military, reversing Democratic President Barack Obama’s policy of accepting them. Trump said on Twitter at the time that the military “cannot be burdened with the tremendous medical costs and disruption that transgender in the military would entail.” Four federal judges - in Baltimore, Washington, D.C., Seattle and Riverside, California - have issued rulings blocking Trump’s ban while legal challenges to the Republican president’s policy proceed. The judges said the ban would likely violate the right under the U.S. Constitution to equal protection under the law. The Pentagon on Dec. 8 issued guidelines to recruitment personnel in order to enlist transgender applicants by Jan. 1. The memo outlined medical requirements and specified how the applicants’ sex would be identified and even which undergarments they would wear. The Trump administration previously said in legal papers that the armed forces were not prepared to train thousands of personnel on the medical standards needed to process transgender applicants and might have to accept “some individuals who are not medically fit for service.” The Obama administration had set a deadline of July 1, 2017, to begin accepting transgender recruits. But Trump’s defense secretary, James Mattis, postponed that date to Jan. 1, 2018, which the president’s ban then put off indefinitely. Trump has taken other steps aimed at rolling back transgender rights. In October, his administration said a federal law banning gender-based workplace discrimination does not protect transgender employees, reversing another Obama-era position. In February, Trump rescinded guidance issued by the Obama administration saying that public schools should allow transgender students to use the restroom that corresponds to their gender identity. \tpoliticsNews\tDecember 29, 2017 \t1\n",
            "\n",
            "\n",
            "Senior U.S. Republican senator: 'Let Mr. Mueller do his job'\tWASHINGTON (Reuters) - The special counsel investigation of links between Russia and President Trump’s 2016 election campaign should continue without interference in 2018, despite calls from some Trump administration allies and Republican lawmakers to shut it down, a prominent Republican senator said on Sunday. Lindsey Graham, who serves on the Senate armed forces and judiciary committees, said Department of Justice Special Counsel Robert Mueller needs to carry on with his Russia investigation without political interference. “This investigation will go forward. It will be an investigation conducted without political influence,” Graham said on CBS’s Face the Nation news program. “And we all need to let Mr. Mueller do his job. I think he’s the right guy at the right time.”  The question of how Russia may have interfered in the election, and how Trump’s campaign may have had links with or co-ordinated any such effort, has loomed over the White House since Trump took office in January. It shows no sign of receding as Trump prepares for his second year in power, despite intensified rhetoric from some Trump allies in recent weeks accusing Mueller’s team of bias against the Republican president. Trump himself seemed to undercut his supporters in an interview last week with the New York Times in which he said he expected Mueller was “going to be fair.”    Russia’s role in the election and the question of possible links to the Trump campaign are the focus of multiple inquiries in Washington. Three committees of the Senate and the House of Representatives are investigating, as well as Mueller, whose team in May took over an earlier probe launched by the U.S. Federal Bureau of Investigation (FBI). Several members of the Trump campaign and administration have been convicted or indicted in the investigation.  Trump and his allies deny any collusion with Russia during the campaign, and the Kremlin has denied meddling in the election. Graham said he still wants an examination of the FBI’s use of a dossier on links between Trump and Russia that was compiled by a former British spy, Christopher Steele, which prompted Trump allies and some Republicans to question Mueller’s inquiry.   On Saturday, the New York Times reported that it was not that dossier that triggered an early FBI probe, but a tip from former Trump campaign foreign policy adviser George Papadopoulos to an Australian diplomat that Russia had damaging information about former Trump rival Hillary Clinton.  “I want somebody to look at the way the Department of Justice used this dossier. It bothers me greatly the way they used it, and I want somebody to look at it,” Graham said. But he said the Russia investigation must continue. “As a matter of fact, it would hurt us if we ignored it,” he said. \tpoliticsNews\tDecember 31, 2017 \t1\n",
            "\n",
            "\n",
            "FBI Russia probe helped by Australian diplomat tip-off: NYT\tWASHINGTON (Reuters) - Trump campaign adviser George Papadopoulos told an Australian diplomat in May 2016 that Russia had political dirt on Democratic presidential candidate Hillary Clinton, the New York Times reported on Saturday. The conversation between Papadopoulos and the diplomat, Alexander Downer, in London was a driving factor behind the FBI’s decision to open a counter-intelligence investigation of Moscow’s contacts with the Trump campaign, the Times reported. Two months after the meeting, Australian officials passed the information that came from Papadopoulos to their American counterparts when leaked Democratic emails began appearing online, according to the newspaper, which cited four current and former U.S. and foreign officials. Besides the information from the Australians, the probe by the Federal Bureau of Investigation was also propelled by intelligence from other friendly governments, including the British and Dutch, the Times said. Papadopoulos, a Chicago-based international energy lawyer, pleaded guilty on Oct. 30 to lying to FBI agents about contacts with people who claimed to have ties to top Russian officials. It was the first criminal charge alleging links between the Trump campaign and Russia. The White House has played down the former aide’s campaign role, saying it was “extremely limited” and that any actions he took would have been on his own. The New York Times, however, reported that Papadopoulos helped set up a meeting between then-candidate Donald Trump and Egyptian President Abdel Fattah al-Sisi and edited the outline of Trump’s first major foreign policy speech in April 2016. The federal investigation, which is now being led by Special Counsel Robert Mueller, has hung over Trump’s White House since he took office almost a year ago. Some Trump allies have recently accused Mueller’s team of being biased against the Republican president. Lawyers for Papadopoulos did not immediately respond to requests by Reuters for comment. Mueller’s office declined to comment. Trump’s White House attorney, Ty Cobb, declined to comment on the New York Times report. “Out of respect for the special counsel and his process, we are not commenting on matters such as this,” he said in a statement. Mueller has charged four Trump associates, including Papadopoulos, in his investigation. Russia has denied interfering in the U.S. election and Trump has said there was no collusion between his campaign and Moscow. \tpoliticsNews\tDecember 30, 2017 \t1\n",
            "\n",
            "\n",
            "Trump wants Postal Service to charge 'much more' for Amazon shipments\tSEATTLE/WASHINGTON (Reuters) - President Donald Trump called on the U.S. Postal Service on Friday to charge “much more” to ship packages for Amazon (AMZN.O), picking another fight with an online retail giant he has criticized in the past.     “Why is the United States Post Office, which is losing many billions of dollars a year, while charging Amazon and others so little to deliver their packages, making Amazon richer and the Post Office dumber and poorer? Should be charging MUCH MORE!” Trump wrote on Twitter.  The president’s tweet drew fresh attention to the fragile finances of the Postal Service at a time when tens of millions of parcels have just been shipped all over the country for the holiday season.  The U.S. Postal Service, which runs at a big loss, is an independent agency within the federal government and does not receive tax dollars for operating expenses, according to its website.  Package delivery has become an increasingly important part of its business as the Internet has led to a sharp decline in the amount of first-class letters. The president does not determine postal rates. They are set by the Postal Regulatory Commission, an independent government agency with commissioners selected by the president from both political parties. That panel raised prices on packages by almost 2 percent in November.  Amazon was founded by Jeff Bezos, who remains the chief executive officer of the retail company and is the richest person in the world, according to Bloomberg News. Bezos also owns The Washington Post, a newspaper Trump has repeatedly railed against in his criticisms of the news media. In tweets over the past year, Trump has said the “Amazon Washington Post” fabricated stories. He has said Amazon does not pay sales tax, which is not true, and so hurts other retailers, part of a pattern by the former businessman and reality television host of periodically turning his ire on big American companies since he took office in January. Daniel Ives, a research analyst at GBH Insights, said Trump’s comment could be taken as a warning to the retail giant. However, he said he was not concerned for Amazon. “We do not see any price hikes in the future. However, that is a risk that Amazon is clearly aware of and (it) is building out its distribution (system) aggressively,” he said. Amazon has shown interest in the past in shifting into its own delivery service, including testing drones for deliveries. In 2015, the company spent $11.5 billion on shipping, 46 percent of its total operating expenses that year.  Amazon shares were down 0.86 percent to $1,175.90 by early afternoon. Overall, U.S. stock prices were down slightly on Friday.  Satish Jindel, president of ShipMatrix Inc, which analyzes shipping data, disputed the idea that the Postal Service charges less than United Parcel Service Inc (UPS.N) and FedEx Corp (FDX.N), the other biggest players in the parcel delivery business in the United States. Many customers get lower rates from UPS and FedEx than they would get from the post office for comparable services, he said. The Postal Service delivers about 62 percent of Amazon packages, for about 3.5 to 4 million a day during the current peak year-end holiday shipping season, Jindel said. The Seattle-based company and the post office have an agreement in which mail carriers take Amazon packages on the last leg of their journeys, from post offices to customers’ doorsteps. Amazon’s No. 2 carrier is UPS, at 21 percent, and FedEx is third, with 8 percent or so, according to Jindel. Trump’s comment tapped into a debate over whether Postal Service pricing has kept pace with the rise of e-commerce, which has flooded the mail with small packages.Private companies like UPS have long claimed the current system unfairly undercuts their business. Steve Gaut, a spokesman for UPS, noted that the company values its “productive relationship” with the postal service, but that it has filed with the Postal Regulatory Commission its concerns about the postal service’s methods for covering costs. Representatives for Amazon, the White House, the U.S. Postal Service and FedEx declined comment or were not immediately available for comment on Trump’s tweet. According to its annual report, the Postal Service lost $2.74 billion this year, and its deficit has ballooned to $61.86 billion.  While the Postal Service’s revenue for first class mail, marketing mail and periodicals is flat or declining, revenue from package delivery is up 44 percent since 2014 to $19.5 billion in the fiscal year ended Sept. 30, 2017. But it also lost about $2 billion in revenue when a temporary surcharge expired in April 2016. According to a Government Accountability Office report in February, the service is facing growing personnel expenses, particularly $73.4 billion in unfunded pension and benefits liabilities. The Postal Service has not announced any plans to cut costs. By law, the Postal Service has to set prices for package delivery to cover the costs attributable to that service. But the postal service allocates only 5.5 percent of its total costs to its business of shipping packages even though that line of business is 28 percent of its total revenue. \tpoliticsNews\tDecember 29, 2017 \t1\n",
            "\n",
            "\n",
            "White House, Congress prepare for talks on spending, immigration\tWEST PALM BEACH, Fla./WASHINGTON (Reuters) - The White House said on Friday it was set to kick off talks next week with Republican and Democratic congressional leaders on immigration policy, government spending and other issues that need to be wrapped up early in the new year. The expected flurry of legislative activity comes as Republicans and Democrats begin to set the stage for midterm congressional elections in November. President Donald Trump’s Republican Party is eager to maintain control of Congress while Democrats look for openings to wrest seats away in the Senate and the House of Representatives. On Wednesday, Trump’s budget chief Mick Mulvaney and legislative affairs director Marc Short will meet with Senate Majority Leader Mitch McConnell and House Speaker Paul Ryan - both Republicans - and their Democratic counterparts, Senator Chuck Schumer and Representative Nancy Pelosi, the White House said. That will be followed up with a weekend of strategy sessions for Trump, McConnell and Ryan on Jan. 6 and 7 at the Camp David presidential retreat in Maryland, according to the White House. The Senate returns to work on Jan. 3 and the House on Jan. 8. Congress passed a short-term government funding bill last week before taking its Christmas break, but needs to come to an agreement on defense spending and various domestic programs by Jan. 19, or the government will shut down. Also on the agenda for lawmakers is disaster aid for people hit by hurricanes in Puerto Rico, Texas and Florida, and by wildfires in California. The House passed an $81 billion package in December, which the Senate did not take up. The White House has asked for a smaller figure, $44 billion. Deadlines also loom for soon-to-expire protections for young adult immigrants who entered the country illegally as children, known as “Dreamers.” In September, Trump ended Democratic former President Barack Obama’s Deferred Action for Childhood Arrivals (DACA) program, which protected Dreamers from deportation and provided work permits, effective in March, giving Congress until then to devise a long-term solution. Democrats, some Republicans and a number of large companies have pushed for DACA protections to continue. Trump and other Republicans have said that will not happen without Congress approving broader immigration policy changes and tougher border security. Democrats oppose funding for a wall promised by Trump along the U.S.-Mexican border.  “The Democrats have been told, and fully understand, that there can be no DACA without the desperately needed WALL at the Southern Border and an END to the horrible Chain Migration & ridiculous Lottery System of Immigration etc,” Trump said in a Twitter post on Friday. Trump wants to overhaul immigration rules for extended families and others seeking to live in the United States. Republican U.S. Senator Jeff Flake, a frequent critic of the president, said he would work with Trump to protect Dreamers. “We can fix DACA in a way that beefs up border security, stops chain migration for the DREAMers, and addresses the unfairness of the diversity lottery. If POTUS (Trump) wants to protect these kids, we want to help him keep that promise,” Flake wrote on Twitter. Congress in early 2018 also must raise the U.S. debt ceiling to avoid a government default. The U.S. Treasury would exhaust all of its borrowing options and run dry of cash to pay its bills by late March or early April if Congress does not raise the debt ceiling before then, according to the nonpartisan Congressional Budget Office. Trump, who won his first major legislative victory with the passage of a major tax overhaul this month, has also promised a major infrastructure plan. \tpoliticsNews\tDecember 29, 2017 \t1\n",
            "\n",
            "\n",
            "Trump says Russia probe will be fair, but timeline unclear: NYT\tWEST PALM BEACH, Fla (Reuters) - President Donald Trump said on Thursday he believes he will be fairly treated in a special counsel investigation into Russian meddling in the U.S. presidential election, but said he did not know how long the probe would last. The federal investigation has hung over Trump’s White House since he took office almost a year ago, and some Trump allies have in recent weeks accused the team of Justice Department Special Counsel Robert Mueller of being biased against the Republican president. But in an interview with the New York Times, Trump appeared to shrug off concerns about the investigation, which was prompted by U.S. intelligence agencies’ conclusion that Russia tried to help Trump defeat Democrat Hillary Clinton by hacking and releasing embarrassing emails and disseminating propaganda. “There’s been no collusion. But I think he’s going to be fair,” Trump said in what the Times described as a 30-minute impromptu interview at his golf club in West Palm Beach, Florida. Mueller has charged four Trump associates in his investigation. Russia has denied interfering in the U.S. election. U.S. Deputy Attorney General Rod Rosenstein said this month that he was not aware of any impropriety by Mueller’s team. Trump’s lawyers have been saying for weeks that they had expected the Mueller investigation to wrap up quickly, possibly by the end of 2017. Mueller has not commented on how long it will last. Trump told the Times that he did not know how long the investigation would take. “Timing-wise, I can’t tell you. I just don’t know,” he said. Trump said he thought a prolonged probe “makes the country look bad” but said it has energized his core supporters. “What it’s done is, it’s really angered the base and made the base stronger. My base is strong than it’s ever been,” he said. The interview was a rare break in Trump’s Christmas vacation in Florida. He has golfed each day aside from Christmas Day, and mainly kept a low profile, apart from the occasional flurry of tweets. He spent one day golfing with Republican Senator David Perdue from Georgia, who has pushed legislation to cap immigration numbers, and had dinner on Thursday with Commerce Secretary Wilbur Ross, an international trade hawk. Trump told the Times he hoped to work with Democrats in the U.S. Congress on a spending plan to fix roads and other infrastructure, and on protections for a group of undocumented immigrants who were brought to the United States as children. Trump spoke about trade issues, saying he had backed off his hard line on Chinese trade practices in the hope that Beijing would do more to pressure North Korea to end its nuclear and missile testing program. He said he had been disappointed in the results. He also complained about the North American Free Trade Agreement (NAFTA), which his administration is attempting to renegotiate in talks with Mexico and Canada. Trump said Canadian Prime Minister Justin Trudeau had played down the importance of Canadian oil and lumber exports to the United States when looking at the balance of trade between the two countries. “If I don’t make the right deal, I’ll terminate NAFTA in two seconds. But we’re doing pretty good,” Trump said. \tpoliticsNews\tDecember 29, 2017 \t1\n",
            "\n",
            "\n",
            "Factbox: Trump on Twitter (Dec 29) - Approval rating, Amazon\tThe following statements were posted to the verified Twitter accounts of U.S. President Donald Trump, @realDonaldTrump and @POTUS.  The opinions expressed are his own. Reuters has not edited the statements or confirmed their accuracy.  @realDonaldTrump : - While the Fake News loves to talk about my so-called low approval rating, @foxandfriends just showed that my rating on Dec. 28, 2017, was approximately the same as President Obama on Dec. 28, 2009, which was 47%...and this despite massive negative Trump coverage & Russia hoax! [0746 EST] - Why is the United States Post Office, which is losing many billions of dollars a year, while charging Amazon and others so little to deliver their packages, making Amazon richer and the Post Office dumber and poorer? Should be charging MUCH MORE! [0804 EST] -- Source link: (bit.ly/2jBh4LU) (bit.ly/2jpEXYR) \tpoliticsNews\tDecember 29, 2017 \t1\n",
            "\n",
            "\n",
            "Trump on Twitter (Dec 28) - Global Warming\tThe following statements were posted to the verified Twitter accounts of U.S. President Donald Trump, @realDonaldTrump and @POTUS.  The opinions expressed are his own. Reuters has not edited the statements or confirmed their accuracy.  @realDonaldTrump : - Together, we are MAKING AMERICA GREAT AGAIN! bit.ly/2lnpKaq [1814 EST] - In the East, it could be the COLDEST New Year’s Eve on record. Perhaps we could use a little bit of that good old Global Warming that our Country, but not other countries, was going to pay TRILLIONS OF DOLLARS to protect against. Bundle up! [1901 EST] -- Source link: (bit.ly/2jBh4LU) (bit.ly/2jpEXYR) \tpoliticsNews\tDecember 29, 2017 \t1\n",
            "\n",
            "\n"
          ]
        }
      ],
      "source": [
        "for message in messages[:10]:\n",
        "    print(message)\n",
        "    print('\\n')"
      ]
    },
    {
      "cell_type": "markdown",
      "id": "36261539",
      "metadata": {
        "id": "36261539"
      },
      "source": [
        "### III. Based on your observation on how the data are separated, load the data set into pandas data frame and show the first 5 and last 5 rows"
      ]
    },
    {
      "cell_type": "code",
      "execution_count": null,
      "id": "8621cc5e",
      "metadata": {
        "scrolled": true,
        "colab": {
          "base_uri": "https://localhost:8080/",
          "height": 206
        },
        "id": "8621cc5e",
        "outputId": "9e1ce100-35d5-4d69-9ecb-90232f1f124b"
      },
      "outputs": [
        {
          "output_type": "execute_result",
          "data": {
            "text/plain": [
              "                                               title  \\\n",
              "0  As U.S. budget fight looms, Republicans flip t...   \n",
              "1  U.S. military to accept transgender recruits o...   \n",
              "2  Senior U.S. Republican senator: 'Let Mr. Muell...   \n",
              "3  FBI Russia probe helped by Australian diplomat...   \n",
              "4  Trump wants Postal Service to charge 'much mor...   \n",
              "\n",
              "                                                text       subject  \\\n",
              "0  WASHINGTON (Reuters) - The head of a conservat...  politicsNews   \n",
              "1  WASHINGTON (Reuters) - Transgender people will...  politicsNews   \n",
              "2  WASHINGTON (Reuters) - The special counsel inv...  politicsNews   \n",
              "3  WASHINGTON (Reuters) - Trump campaign adviser ...  politicsNews   \n",
              "4  SEATTLE/WASHINGTON (Reuters) - President Donal...  politicsNews   \n",
              "\n",
              "                 date  target  \n",
              "0  December 31, 2017        1  \n",
              "1  December 29, 2017        1  \n",
              "2  December 31, 2017        1  \n",
              "3  December 30, 2017        1  \n",
              "4  December 29, 2017        1  "
            ],
            "text/html": [
              "\n",
              "  <div id=\"df-d6ef0e0d-0cf6-412c-84d1-1027e81fbcc3\">\n",
              "    <div class=\"colab-df-container\">\n",
              "      <div>\n",
              "<style scoped>\n",
              "    .dataframe tbody tr th:only-of-type {\n",
              "        vertical-align: middle;\n",
              "    }\n",
              "\n",
              "    .dataframe tbody tr th {\n",
              "        vertical-align: top;\n",
              "    }\n",
              "\n",
              "    .dataframe thead th {\n",
              "        text-align: right;\n",
              "    }\n",
              "</style>\n",
              "<table border=\"1\" class=\"dataframe\">\n",
              "  <thead>\n",
              "    <tr style=\"text-align: right;\">\n",
              "      <th></th>\n",
              "      <th>title</th>\n",
              "      <th>text</th>\n",
              "      <th>subject</th>\n",
              "      <th>date</th>\n",
              "      <th>target</th>\n",
              "    </tr>\n",
              "  </thead>\n",
              "  <tbody>\n",
              "    <tr>\n",
              "      <th>0</th>\n",
              "      <td>As U.S. budget fight looms, Republicans flip t...</td>\n",
              "      <td>WASHINGTON (Reuters) - The head of a conservat...</td>\n",
              "      <td>politicsNews</td>\n",
              "      <td>December 31, 2017</td>\n",
              "      <td>1</td>\n",
              "    </tr>\n",
              "    <tr>\n",
              "      <th>1</th>\n",
              "      <td>U.S. military to accept transgender recruits o...</td>\n",
              "      <td>WASHINGTON (Reuters) - Transgender people will...</td>\n",
              "      <td>politicsNews</td>\n",
              "      <td>December 29, 2017</td>\n",
              "      <td>1</td>\n",
              "    </tr>\n",
              "    <tr>\n",
              "      <th>2</th>\n",
              "      <td>Senior U.S. Republican senator: 'Let Mr. Muell...</td>\n",
              "      <td>WASHINGTON (Reuters) - The special counsel inv...</td>\n",
              "      <td>politicsNews</td>\n",
              "      <td>December 31, 2017</td>\n",
              "      <td>1</td>\n",
              "    </tr>\n",
              "    <tr>\n",
              "      <th>3</th>\n",
              "      <td>FBI Russia probe helped by Australian diplomat...</td>\n",
              "      <td>WASHINGTON (Reuters) - Trump campaign adviser ...</td>\n",
              "      <td>politicsNews</td>\n",
              "      <td>December 30, 2017</td>\n",
              "      <td>1</td>\n",
              "    </tr>\n",
              "    <tr>\n",
              "      <th>4</th>\n",
              "      <td>Trump wants Postal Service to charge 'much mor...</td>\n",
              "      <td>SEATTLE/WASHINGTON (Reuters) - President Donal...</td>\n",
              "      <td>politicsNews</td>\n",
              "      <td>December 29, 2017</td>\n",
              "      <td>1</td>\n",
              "    </tr>\n",
              "  </tbody>\n",
              "</table>\n",
              "</div>\n",
              "      <button class=\"colab-df-convert\" onclick=\"convertToInteractive('df-d6ef0e0d-0cf6-412c-84d1-1027e81fbcc3')\"\n",
              "              title=\"Convert this dataframe to an interactive table.\"\n",
              "              style=\"display:none;\">\n",
              "        \n",
              "  <svg xmlns=\"http://www.w3.org/2000/svg\" height=\"24px\"viewBox=\"0 0 24 24\"\n",
              "       width=\"24px\">\n",
              "    <path d=\"M0 0h24v24H0V0z\" fill=\"none\"/>\n",
              "    <path d=\"M18.56 5.44l.94 2.06.94-2.06 2.06-.94-2.06-.94-.94-2.06-.94 2.06-2.06.94zm-11 1L8.5 8.5l.94-2.06 2.06-.94-2.06-.94L8.5 2.5l-.94 2.06-2.06.94zm10 10l.94 2.06.94-2.06 2.06-.94-2.06-.94-.94-2.06-.94 2.06-2.06.94z\"/><path d=\"M17.41 7.96l-1.37-1.37c-.4-.4-.92-.59-1.43-.59-.52 0-1.04.2-1.43.59L10.3 9.45l-7.72 7.72c-.78.78-.78 2.05 0 2.83L4 21.41c.39.39.9.59 1.41.59.51 0 1.02-.2 1.41-.59l7.78-7.78 2.81-2.81c.8-.78.8-2.07 0-2.86zM5.41 20L4 18.59l7.72-7.72 1.47 1.35L5.41 20z\"/>\n",
              "  </svg>\n",
              "      </button>\n",
              "      \n",
              "  <style>\n",
              "    .colab-df-container {\n",
              "      display:flex;\n",
              "      flex-wrap:wrap;\n",
              "      gap: 12px;\n",
              "    }\n",
              "\n",
              "    .colab-df-convert {\n",
              "      background-color: #E8F0FE;\n",
              "      border: none;\n",
              "      border-radius: 50%;\n",
              "      cursor: pointer;\n",
              "      display: none;\n",
              "      fill: #1967D2;\n",
              "      height: 32px;\n",
              "      padding: 0 0 0 0;\n",
              "      width: 32px;\n",
              "    }\n",
              "\n",
              "    .colab-df-convert:hover {\n",
              "      background-color: #E2EBFA;\n",
              "      box-shadow: 0px 1px 2px rgba(60, 64, 67, 0.3), 0px 1px 3px 1px rgba(60, 64, 67, 0.15);\n",
              "      fill: #174EA6;\n",
              "    }\n",
              "\n",
              "    [theme=dark] .colab-df-convert {\n",
              "      background-color: #3B4455;\n",
              "      fill: #D2E3FC;\n",
              "    }\n",
              "\n",
              "    [theme=dark] .colab-df-convert:hover {\n",
              "      background-color: #434B5C;\n",
              "      box-shadow: 0px 1px 3px 1px rgba(0, 0, 0, 0.15);\n",
              "      filter: drop-shadow(0px 1px 2px rgba(0, 0, 0, 0.3));\n",
              "      fill: #FFFFFF;\n",
              "    }\n",
              "  </style>\n",
              "\n",
              "      <script>\n",
              "        const buttonEl =\n",
              "          document.querySelector('#df-d6ef0e0d-0cf6-412c-84d1-1027e81fbcc3 button.colab-df-convert');\n",
              "        buttonEl.style.display =\n",
              "          google.colab.kernel.accessAllowed ? 'block' : 'none';\n",
              "\n",
              "        async function convertToInteractive(key) {\n",
              "          const element = document.querySelector('#df-d6ef0e0d-0cf6-412c-84d1-1027e81fbcc3');\n",
              "          const dataTable =\n",
              "            await google.colab.kernel.invokeFunction('convertToInteractive',\n",
              "                                                     [key], {});\n",
              "          if (!dataTable) return;\n",
              "\n",
              "          const docLinkHtml = 'Like what you see? Visit the ' +\n",
              "            '<a target=\"_blank\" href=https://colab.research.google.com/notebooks/data_table.ipynb>data table notebook</a>'\n",
              "            + ' to learn more about interactive tables.';\n",
              "          element.innerHTML = '';\n",
              "          dataTable['output_type'] = 'display_data';\n",
              "          await google.colab.output.renderOutput(dataTable, element);\n",
              "          const docLink = document.createElement('div');\n",
              "          docLink.innerHTML = docLinkHtml;\n",
              "          element.appendChild(docLink);\n",
              "        }\n",
              "      </script>\n",
              "    </div>\n",
              "  </div>\n",
              "  "
            ]
          },
          "metadata": {},
          "execution_count": 9
        }
      ],
      "source": [
        "data=  pd.read_csv(filename, sep = '\\t')\n",
        "data.head(5)"
      ]
    },
    {
      "cell_type": "code",
      "execution_count": null,
      "id": "e722fdff",
      "metadata": {
        "colab": {
          "base_uri": "https://localhost:8080/"
        },
        "id": "e722fdff",
        "outputId": "dfd4b528-50d7-4794-d4d1-ce5b1ff5ade5"
      },
      "outputs": [
        {
          "output_type": "execute_result",
          "data": {
            "text/plain": [
              "(44898, 5)"
            ]
          },
          "metadata": {},
          "execution_count": 10
        }
      ],
      "source": [
        "data.shape"
      ]
    },
    {
      "cell_type": "markdown",
      "id": "a7823b4b",
      "metadata": {
        "id": "a7823b4b"
      },
      "source": [
        "### IV.See whether there are any null values and remove all the rows with any null values, and then show again that there are no more null values"
      ]
    },
    {
      "cell_type": "code",
      "execution_count": null,
      "id": "4ca20f13",
      "metadata": {
        "colab": {
          "base_uri": "https://localhost:8080/"
        },
        "id": "4ca20f13",
        "outputId": "c19b96bf-80d4-4641-a0a0-085af5237fa5"
      },
      "outputs": [
        {
          "output_type": "execute_result",
          "data": {
            "text/plain": [
              "title      0\n",
              "text       0\n",
              "subject    0\n",
              "date       0\n",
              "target     0\n",
              "dtype: int64"
            ]
          },
          "metadata": {},
          "execution_count": 11
        }
      ],
      "source": [
        "data.isnull().sum().sort_values(ascending = False)"
      ]
    },
    {
      "cell_type": "code",
      "execution_count": null,
      "id": "f2f605d9",
      "metadata": {
        "colab": {
          "base_uri": "https://localhost:8080/"
        },
        "id": "f2f605d9",
        "outputId": "4b203770-f372-453a-abe8-e06072415dd6"
      },
      "outputs": [
        {
          "output_type": "stream",
          "name": "stdout",
          "text": [
            "         nulls\n",
            "title        0\n",
            "text         0\n",
            "subject      0\n",
            "date         0\n",
            "target       0\n"
          ]
        }
      ],
      "source": [
        "nulls = data.isnull().sum()\n",
        "nulls = nulls.to_frame(\"nulls\").sort_values(\"nulls\", ascending = False)\n",
        "print(nulls)"
      ]
    },
    {
      "cell_type": "code",
      "execution_count": null,
      "id": "16ca167d",
      "metadata": {
        "colab": {
          "base_uri": "https://localhost:8080/",
          "height": 686
        },
        "id": "16ca167d",
        "outputId": "50a30573-b969-4297-bf01-d1747dffbc6d"
      },
      "outputs": [
        {
          "output_type": "execute_result",
          "data": {
            "text/plain": [
              "<matplotlib.axes._subplots.AxesSubplot at 0x7ff8403a6c90>"
            ]
          },
          "metadata": {},
          "execution_count": 13
        },
        {
          "output_type": "display_data",
          "data": {
            "text/plain": [
              "<Figure size 1800x720 with 3 Axes>"
            ],
            "image/png": "[encoded data removed]"
          },
          "metadata": {
            "needs_background": "light"
          }
        }
      ],
      "source": [
        "msno.bar(data)"
      ]
    },
    {
      "cell_type": "markdown",
      "id": "3361fa8e",
      "metadata": {
        "id": "3361fa8e"
      },
      "source": [
        "### there is no missing data "
      ]
    },
    {
      "cell_type": "markdown",
      "id": "7b62c592",
      "metadata": {
        "id": "7b62c592"
      },
      "source": [
        "### V. Generate a counterplot to show the number of news in each subject"
      ]
    },
    {
      "cell_type": "code",
      "execution_count": null,
      "id": "ae8ebde8",
      "metadata": {
        "colab": {
          "base_uri": "https://localhost:8080/"
        },
        "id": "ae8ebde8",
        "outputId": "c7168d6b-d176-4b56-b517-f815a78f15d1"
      },
      "outputs": [
        {
          "output_type": "execute_result",
          "data": {
            "text/plain": [
              "<matplotlib.axes._subplots.AxesSubplot at 0x7ff842410650>"
            ]
          },
          "metadata": {},
          "execution_count": 14
        },
        {
          "output_type": "display_data",
          "data": {
            "text/plain": [
              "<Figure size 1440x720 with 1 Axes>"
            ],
            "image/png": "[encoded data removed]"
          },
          "metadata": {
            "needs_background": "light"
          }
        }
      ],
      "source": [
        "plt.figure(figsize = (20,10))\n",
        "\n",
        "sns.countplot(x=\"subject\", data=data)\n"
      ]
    },
    {
      "cell_type": "markdown",
      "id": "2902d918",
      "metadata": {
        "id": "2902d918"
      },
      "source": [
        "### VI. Generate a counterplot to show the number of news in each category (fake/ True)"
      ]
    },
    {
      "cell_type": "code",
      "execution_count": null,
      "id": "332f778f",
      "metadata": {
        "colab": {
          "base_uri": "https://localhost:8080/"
        },
        "id": "332f778f",
        "outputId": "b8a73b22-abd8-48a4-be12-09a398ea809c"
      },
      "outputs": [
        {
          "output_type": "execute_result",
          "data": {
            "text/plain": [
              "<matplotlib.axes._subplots.AxesSubplot at 0x7ff83d4621d0>"
            ]
          },
          "metadata": {},
          "execution_count": 15
        },
        {
          "output_type": "display_data",
          "data": {
            "text/plain": [
              "<Figure size 1440x720 with 1 Axes>"
            ],
            "image/png": "[encoded data removed]"
          },
          "metadata": {
            "needs_background": "light"
          }
        }
      ],
      "source": [
        "plt.figure(figsize = (20,10))\n",
        "\n",
        "sns.countplot(x=\"target\", data=data)"
      ]
    },
    {
      "cell_type": "markdown",
      "id": "b26db2af",
      "metadata": {
        "id": "b26db2af"
      },
      "source": [
        "### VII. Generate two word clouds, one for fake news and one for true news, and observe the most frequent words in each category and just write your observation on them."
      ]
    },
    {
      "cell_type": "code",
      "execution_count": null,
      "id": "5c15c46a",
      "metadata": {
        "colab": {
          "base_uri": "https://localhost:8080/"
        },
        "id": "5c15c46a",
        "outputId": "f404014f-db21-4f60-b0c4-686c3a62414b"
      },
      "outputs": [
        {
          "output_type": "display_data",
          "data": {
            "text/plain": [
              "<Figure size 432x288 with 1 Axes>"
            ],
            "image/png": "[encoded data removed]"
          },
          "metadata": {
            "needs_background": "light"
          }
        }
      ],
      "source": [
        "true = data.loc[data['target']==1]\n",
        "fake = data.loc[data['target']==0]\n",
        "\n",
        "\n",
        "text1 = \" \".join(cat for cat in true.text)\n",
        "\n",
        "text2 = \" \".join(cat2 for cat2 in fake.text)\n",
        "    \n",
        "    \n",
        "word_cloud = WordCloud(collocations = False, background_color = 'white').generate(text1)\n",
        "plt.imshow(word_cloud, interpolation='bilinear')\n",
        "plt.axis(\"off\")\n",
        "plt.show()"
      ]
    },
    {
      "cell_type": "code",
      "execution_count": null,
      "id": "66d890ee",
      "metadata": {
        "colab": {
          "base_uri": "https://localhost:8080/"
        },
        "id": "66d890ee",
        "outputId": "5da16b65-ffaf-4a2a-efd1-c36d12d086f7"
      },
      "outputs": [
        {
          "output_type": "display_data",
          "data": {
            "text/plain": [
              "<Figure size 432x288 with 1 Axes>"
            ],
            "image/png": "[encoded data removed]"
          },
          "metadata": {
            "needs_background": "light"
          }
        }
      ],
      "source": [
        "word_cloud = WordCloud(collocations = False, background_color = 'white').generate(text2)\n",
        "plt.imshow(word_cloud, interpolation='bilinear')\n",
        "plt.axis(\"off\")\n",
        "plt.show()"
      ]
    },
    {
      "cell_type": "markdown",
      "id": "0f624bee",
      "metadata": {
        "id": "0f624bee"
      },
      "source": [
        "### The fake group has the word Trump and President and New very prominantly.  Other words such as Obama and Clinton seem to be prevelant.  This actually matches the political climeate we were in with many unreal nws circulationg.  The true news also has promenant word such as Trump but Trump is not as prominant as fake  Other words are Said, Reuter and state.\n"
      ]
    },
    {
      "cell_type": "markdown",
      "id": "965ff0e4",
      "metadata": {
        "id": "965ff0e4"
      },
      "source": [
        "### VIII. Create a column \"AllText\" that has the concatenated subject, title, and text [For example, for each news we have the subject, title, and text. We want a column that has all of this together as a large string]  [See the example answer with the majority vote in this link: https://stackoverflow.com/questions/39291499/how-to-concatenate-multiple-column-values-into-a-single-column-in-pandas-datafra (Links to an external site.) )"
      ]
    },
    {
      "cell_type": "code",
      "execution_count": null,
      "id": "ec57024d",
      "metadata": {
        "id": "ec57024d"
      },
      "outputs": [],
      "source": [
        "cols = ['title','text', 'subject']\n",
        "data['AllText'] = data[cols].apply(lambda row: '_'.join(row.values.astype(str)), axis=1)"
      ]
    },
    {
      "cell_type": "markdown",
      "id": "b8f3a756",
      "metadata": {
        "id": "b8f3a756"
      },
      "source": [
        "### IX. Using the dataframe's copy function, save the data frame into another dataframe so that you can use it later"
      ]
    },
    {
      "cell_type": "code",
      "execution_count": null,
      "id": "bfe44b98",
      "metadata": {
        "colab": {
          "base_uri": "https://localhost:8080/"
        },
        "id": "bfe44b98",
        "outputId": "044723eb-51df-443e-ae87-f8c4ef212824"
      },
      "outputs": [
        {
          "output_type": "execute_result",
          "data": {
            "text/plain": [
              "                                               title  \\\n",
              "0  As U.S. budget fight looms, Republicans flip t...   \n",
              "1  U.S. military to accept transgender recruits o...   \n",
              "2  Senior U.S. Republican senator: 'Let Mr. Muell...   \n",
              "3  FBI Russia probe helped by Australian diplomat...   \n",
              "4  Trump wants Postal Service to charge 'much mor...   \n",
              "5  White House, Congress prepare for talks on spe...   \n",
              "6  Trump says Russia probe will be fair, but time...   \n",
              "7  Factbox: Trump on Twitter (Dec 29) - Approval ...   \n",
              "8         Trump on Twitter (Dec 28) - Global Warming   \n",
              "9  Alabama official to certify Senator-elect Jone...   \n",
              "\n",
              "                                                text       subject  \\\n",
              "0  WASHINGTON (Reuters) - The head of a conservat...  politicsNews   \n",
              "1  WASHINGTON (Reuters) - Transgender people will...  politicsNews   \n",
              "2  WASHINGTON (Reuters) - The special counsel inv...  politicsNews   \n",
              "3  WASHINGTON (Reuters) - Trump campaign adviser ...  politicsNews   \n",
              "4  SEATTLE/WASHINGTON (Reuters) - President Donal...  politicsNews   \n",
              "5  WEST PALM BEACH, Fla./WASHINGTON (Reuters) - T...  politicsNews   \n",
              "6  WEST PALM BEACH, Fla (Reuters) - President Don...  politicsNews   \n",
              "7  The following statements were posted to the ve...  politicsNews   \n",
              "8  The following statements were posted to the ve...  politicsNews   \n",
              "9  WASHINGTON (Reuters) - Alabama Secretary of St...  politicsNews   \n",
              "\n",
              "                 date  target  \\\n",
              "0  December 31, 2017        1   \n",
              "1  December 29, 2017        1   \n",
              "2  December 31, 2017        1   \n",
              "3  December 30, 2017        1   \n",
              "4  December 29, 2017        1   \n",
              "5  December 29, 2017        1   \n",
              "6  December 29, 2017        1   \n",
              "7  December 29, 2017        1   \n",
              "8  December 29, 2017        1   \n",
              "9  December 28, 2017        1   \n",
              "\n",
              "                                             AllText  \n",
              "0  As U.S. budget fight looms, Republicans flip t...  \n",
              "1  U.S. military to accept transgender recruits o...  \n",
              "2  Senior U.S. Republican senator: 'Let Mr. Muell...  \n",
              "3  FBI Russia probe helped by Australian diplomat...  \n",
              "4  Trump wants Postal Service to charge 'much mor...  \n",
              "5  White House, Congress prepare for talks on spe...  \n",
              "6  Trump says Russia probe will be fair, but time...  \n",
              "7  Factbox: Trump on Twitter (Dec 29) - Approval ...  \n",
              "8  Trump on Twitter (Dec 28) - Global Warming_The...  \n",
              "9  Alabama official to certify Senator-elect Jone...  "
            ],
            "text/html": [
              "\n",
              "  <div id=\"df-c352545a-0502-464a-a8f4-0bc4394ba256\">\n",
              "    <div class=\"colab-df-container\">\n",
              "      <div>\n",
              "<style scoped>\n",
              "    .dataframe tbody tr th:only-of-type {\n",
              "        vertical-align: middle;\n",
              "    }\n",
              "\n",
              "    .dataframe tbody tr th {\n",
              "        vertical-align: top;\n",
              "    }\n",
              "\n",
              "    .dataframe thead th {\n",
              "        text-align: right;\n",
              "    }\n",
              "</style>\n",
              "<table border=\"1\" class=\"dataframe\">\n",
              "  <thead>\n",
              "    <tr style=\"text-align: right;\">\n",
              "      <th></th>\n",
              "      <th>title</th>\n",
              "      <th>text</th>\n",
              "      <th>subject</th>\n",
              "      <th>date</th>\n",
              "      <th>target</th>\n",
              "      <th>AllText</th>\n",
              "    </tr>\n",
              "  </thead>\n",
              "  <tbody>\n",
              "    <tr>\n",
              "      <th>0</th>\n",
              "      <td>As U.S. budget fight looms, Republicans flip t...</td>\n",
              "      <td>WASHINGTON (Reuters) - The head of a conservat...</td>\n",
              "      <td>politicsNews</td>\n",
              "      <td>December 31, 2017</td>\n",
              "      <td>1</td>\n",
              "      <td>As U.S. budget fight looms, Republicans flip t...</td>\n",
              "    </tr>\n",
              "    <tr>\n",
              "      <th>1</th>\n",
              "      <td>U.S. military to accept transgender recruits o...</td>\n",
              "      <td>WASHINGTON (Reuters) - Transgender people will...</td>\n",
              "      <td>politicsNews</td>\n",
              "      <td>December 29, 2017</td>\n",
              "      <td>1</td>\n",
              "      <td>U.S. military to accept transgender recruits o...</td>\n",
              "    </tr>\n",
              "    <tr>\n",
              "      <th>2</th>\n",
              "      <td>Senior U.S. Republican senator: 'Let Mr. Muell...</td>\n",
              "      <td>WASHINGTON (Reuters) - The special counsel inv...</td>\n",
              "      <td>politicsNews</td>\n",
              "      <td>December 31, 2017</td>\n",
              "      <td>1</td>\n",
              "      <td>Senior U.S. Republican senator: 'Let Mr. Muell...</td>\n",
              "    </tr>\n",
              "    <tr>\n",
              "      <th>3</th>\n",
              "      <td>FBI Russia probe helped by Australian diplomat...</td>\n",
              "      <td>WASHINGTON (Reuters) - Trump campaign adviser ...</td>\n",
              "      <td>politicsNews</td>\n",
              "      <td>December 30, 2017</td>\n",
              "      <td>1</td>\n",
              "      <td>FBI Russia probe helped by Australian diplomat...</td>\n",
              "    </tr>\n",
              "    <tr>\n",
              "      <th>4</th>\n",
              "      <td>Trump wants Postal Service to charge 'much mor...</td>\n",
              "      <td>SEATTLE/WASHINGTON (Reuters) - President Donal...</td>\n",
              "      <td>politicsNews</td>\n",
              "      <td>December 29, 2017</td>\n",
              "      <td>1</td>\n",
              "      <td>Trump wants Postal Service to charge 'much mor...</td>\n",
              "    </tr>\n",
              "    <tr>\n",
              "      <th>5</th>\n",
              "      <td>White House, Congress prepare for talks on spe...</td>\n",
              "      <td>WEST PALM BEACH, Fla./WASHINGTON (Reuters) - T...</td>\n",
              "      <td>politicsNews</td>\n",
              "      <td>December 29, 2017</td>\n",
              "      <td>1</td>\n",
              "      <td>White House, Congress prepare for talks on spe...</td>\n",
              "    </tr>\n",
              "    <tr>\n",
              "      <th>6</th>\n",
              "      <td>Trump says Russia probe will be fair, but time...</td>\n",
              "      <td>WEST PALM BEACH, Fla (Reuters) - President Don...</td>\n",
              "      <td>politicsNews</td>\n",
              "      <td>December 29, 2017</td>\n",
              "      <td>1</td>\n",
              "      <td>Trump says Russia probe will be fair, but time...</td>\n",
              "    </tr>\n",
              "    <tr>\n",
              "      <th>7</th>\n",
              "      <td>Factbox: Trump on Twitter (Dec 29) - Approval ...</td>\n",
              "      <td>The following statements were posted to the ve...</td>\n",
              "      <td>politicsNews</td>\n",
              "      <td>December 29, 2017</td>\n",
              "      <td>1</td>\n",
              "      <td>Factbox: Trump on Twitter (Dec 29) - Approval ...</td>\n",
              "    </tr>\n",
              "    <tr>\n",
              "      <th>8</th>\n",
              "      <td>Trump on Twitter (Dec 28) - Global Warming</td>\n",
              "      <td>The following statements were posted to the ve...</td>\n",
              "      <td>politicsNews</td>\n",
              "      <td>December 29, 2017</td>\n",
              "      <td>1</td>\n",
              "      <td>Trump on Twitter (Dec 28) - Global Warming_The...</td>\n",
              "    </tr>\n",
              "    <tr>\n",
              "      <th>9</th>\n",
              "      <td>Alabama official to certify Senator-elect Jone...</td>\n",
              "      <td>WASHINGTON (Reuters) - Alabama Secretary of St...</td>\n",
              "      <td>politicsNews</td>\n",
              "      <td>December 28, 2017</td>\n",
              "      <td>1</td>\n",
              "      <td>Alabama official to certify Senator-elect Jone...</td>\n",
              "    </tr>\n",
              "  </tbody>\n",
              "</table>\n",
              "</div>\n",
              "      <button class=\"colab-df-convert\" onclick=\"convertToInteractive('df-c352545a-0502-464a-a8f4-0bc4394ba256')\"\n",
              "              title=\"Convert this dataframe to an interactive table.\"\n",
              "              style=\"display:none;\">\n",
              "        \n",
              "  <svg xmlns=\"http://www.w3.org/2000/svg\" height=\"24px\"viewBox=\"0 0 24 24\"\n",
              "       width=\"24px\">\n",
              "    <path d=\"M0 0h24v24H0V0z\" fill=\"none\"/>\n",
              "    <path d=\"M18.56 5.44l.94 2.06.94-2.06 2.06-.94-2.06-.94-.94-2.06-.94 2.06-2.06.94zm-11 1L8.5 8.5l.94-2.06 2.06-.94-2.06-.94L8.5 2.5l-.94 2.06-2.06.94zm10 10l.94 2.06.94-2.06 2.06-.94-2.06-.94-.94-2.06-.94 2.06-2.06.94z\"/><path d=\"M17.41 7.96l-1.37-1.37c-.4-.4-.92-.59-1.43-.59-.52 0-1.04.2-1.43.59L10.3 9.45l-7.72 7.72c-.78.78-.78 2.05 0 2.83L4 21.41c.39.39.9.59 1.41.59.51 0 1.02-.2 1.41-.59l7.78-7.78 2.81-2.81c.8-.78.8-2.07 0-2.86zM5.41 20L4 18.59l7.72-7.72 1.47 1.35L5.41 20z\"/>\n",
              "  </svg>\n",
              "      </button>\n",
              "      \n",
              "  <style>\n",
              "    .colab-df-container {\n",
              "      display:flex;\n",
              "      flex-wrap:wrap;\n",
              "      gap: 12px;\n",
              "    }\n",
              "\n",
              "    .colab-df-convert {\n",
              "      background-color: #E8F0FE;\n",
              "      border: none;\n",
              "      border-radius: 50%;\n",
              "      cursor: pointer;\n",
              "      display: none;\n",
              "      fill: #1967D2;\n",
              "      height: 32px;\n",
              "      padding: 0 0 0 0;\n",
              "      width: 32px;\n",
              "    }\n",
              "\n",
              "    .colab-df-convert:hover {\n",
              "      background-color: #E2EBFA;\n",
              "      box-shadow: 0px 1px 2px rgba(60, 64, 67, 0.3), 0px 1px 3px 1px rgba(60, 64, 67, 0.15);\n",
              "      fill: #174EA6;\n",
              "    }\n",
              "\n",
              "    [theme=dark] .colab-df-convert {\n",
              "      background-color: #3B4455;\n",
              "      fill: #D2E3FC;\n",
              "    }\n",
              "\n",
              "    [theme=dark] .colab-df-convert:hover {\n",
              "      background-color: #434B5C;\n",
              "      box-shadow: 0px 1px 3px 1px rgba(0, 0, 0, 0.15);\n",
              "      filter: drop-shadow(0px 1px 2px rgba(0, 0, 0, 0.3));\n",
              "      fill: #FFFFFF;\n",
              "    }\n",
              "  </style>\n",
              "\n",
              "      <script>\n",
              "        const buttonEl =\n",
              "          document.querySelector('#df-c352545a-0502-464a-a8f4-0bc4394ba256 button.colab-df-convert');\n",
              "        buttonEl.style.display =\n",
              "          google.colab.kernel.accessAllowed ? 'block' : 'none';\n",
              "\n",
              "        async function convertToInteractive(key) {\n",
              "          const element = document.querySelector('#df-c352545a-0502-464a-a8f4-0bc4394ba256');\n",
              "          const dataTable =\n",
              "            await google.colab.kernel.invokeFunction('convertToInteractive',\n",
              "                                                     [key], {});\n",
              "          if (!dataTable) return;\n",
              "\n",
              "          const docLinkHtml = 'Like what you see? Visit the ' +\n",
              "            '<a target=\"_blank\" href=https://colab.research.google.com/notebooks/data_table.ipynb>data table notebook</a>'\n",
              "            + ' to learn more about interactive tables.';\n",
              "          element.innerHTML = '';\n",
              "          dataTable['output_type'] = 'display_data';\n",
              "          await google.colab.output.renderOutput(dataTable, element);\n",
              "          const docLink = document.createElement('div');\n",
              "          docLink.innerHTML = docLinkHtml;\n",
              "          element.appendChild(docLink);\n",
              "        }\n",
              "      </script>\n",
              "    </div>\n",
              "  </div>\n",
              "  "
            ]
          },
          "metadata": {},
          "execution_count": 19
        }
      ],
      "source": [
        "dfCopy = data.copy()\n",
        "dfCopy.head(10)"
      ]
    },
    {
      "cell_type": "markdown",
      "id": "46f781db",
      "metadata": {
        "id": "46f781db"
      },
      "source": [
        "### X. Drop the title, text, subject, and date columns from the data frame as we will not use them separately. We have all the text in a single column that you have generated above\n"
      ]
    },
    {
      "cell_type": "code",
      "execution_count": null,
      "id": "cdd60794",
      "metadata": {
        "scrolled": true,
        "colab": {
          "base_uri": "https://localhost:8080/"
        },
        "id": "cdd60794",
        "outputId": "132e34a4-62c1-403a-b9da-7f34a5d10761"
      },
      "outputs": [
        {
          "output_type": "execute_result",
          "data": {
            "text/plain": [
              "   target                                            AllText\n",
              "0       1  As U.S. budget fight looms, Republicans flip t...\n",
              "1       1  U.S. military to accept transgender recruits o...\n",
              "2       1  Senior U.S. Republican senator: 'Let Mr. Muell...\n",
              "3       1  FBI Russia probe helped by Australian diplomat...\n",
              "4       1  Trump wants Postal Service to charge 'much mor...\n",
              "5       1  White House, Congress prepare for talks on spe...\n",
              "6       1  Trump says Russia probe will be fair, but time...\n",
              "7       1  Factbox: Trump on Twitter (Dec 29) - Approval ...\n",
              "8       1  Trump on Twitter (Dec 28) - Global Warming_The...\n",
              "9       1  Alabama official to certify Senator-elect Jone..."
            ],
            "text/html": [
              "\n",
              "  <div id=\"df-61974db9-662f-49f9-8c87-de02c5bc4562\">\n",
              "    <div class=\"colab-df-container\">\n",
              "      <div>\n",
              "<style scoped>\n",
              "    .dataframe tbody tr th:only-of-type {\n",
              "        vertical-align: middle;\n",
              "    }\n",
              "\n",
              "    .dataframe tbody tr th {\n",
              "        vertical-align: top;\n",
              "    }\n",
              "\n",
              "    .dataframe thead th {\n",
              "        text-align: right;\n",
              "    }\n",
              "</style>\n",
              "<table border=\"1\" class=\"dataframe\">\n",
              "  <thead>\n",
              "    <tr style=\"text-align: right;\">\n",
              "      <th></th>\n",
              "      <th>target</th>\n",
              "      <th>AllText</th>\n",
              "    </tr>\n",
              "  </thead>\n",
              "  <tbody>\n",
              "    <tr>\n",
              "      <th>0</th>\n",
              "      <td>1</td>\n",
              "      <td>As U.S. budget fight looms, Republicans flip t...</td>\n",
              "    </tr>\n",
              "    <tr>\n",
              "      <th>1</th>\n",
              "      <td>1</td>\n",
              "      <td>U.S. military to accept transgender recruits o...</td>\n",
              "    </tr>\n",
              "    <tr>\n",
              "      <th>2</th>\n",
              "      <td>1</td>\n",
              "      <td>Senior U.S. Republican senator: 'Let Mr. Muell...</td>\n",
              "    </tr>\n",
              "    <tr>\n",
              "      <th>3</th>\n",
              "      <td>1</td>\n",
              "      <td>FBI Russia probe helped by Australian diplomat...</td>\n",
              "    </tr>\n",
              "    <tr>\n",
              "      <th>4</th>\n",
              "      <td>1</td>\n",
              "      <td>Trump wants Postal Service to charge 'much mor...</td>\n",
              "    </tr>\n",
              "    <tr>\n",
              "      <th>5</th>\n",
              "      <td>1</td>\n",
              "      <td>White House, Congress prepare for talks on spe...</td>\n",
              "    </tr>\n",
              "    <tr>\n",
              "      <th>6</th>\n",
              "      <td>1</td>\n",
              "      <td>Trump says Russia probe will be fair, but time...</td>\n",
              "    </tr>\n",
              "    <tr>\n",
              "      <th>7</th>\n",
              "      <td>1</td>\n",
              "      <td>Factbox: Trump on Twitter (Dec 29) - Approval ...</td>\n",
              "    </tr>\n",
              "    <tr>\n",
              "      <th>8</th>\n",
              "      <td>1</td>\n",
              "      <td>Trump on Twitter (Dec 28) - Global Warming_The...</td>\n",
              "    </tr>\n",
              "    <tr>\n",
              "      <th>9</th>\n",
              "      <td>1</td>\n",
              "      <td>Alabama official to certify Senator-elect Jone...</td>\n",
              "    </tr>\n",
              "  </tbody>\n",
              "</table>\n",
              "</div>\n",
              "      <button class=\"colab-df-convert\" onclick=\"convertToInteractive('df-61974db9-662f-49f9-8c87-de02c5bc4562')\"\n",
              "              title=\"Convert this dataframe to an interactive table.\"\n",
              "              style=\"display:none;\">\n",
              "        \n",
              "  <svg xmlns=\"http://www.w3.org/2000/svg\" height=\"24px\"viewBox=\"0 0 24 24\"\n",
              "       width=\"24px\">\n",
              "    <path d=\"M0 0h24v24H0V0z\" fill=\"none\"/>\n",
              "    <path d=\"M18.56 5.44l.94 2.06.94-2.06 2.06-.94-2.06-.94-.94-2.06-.94 2.06-2.06.94zm-11 1L8.5 8.5l.94-2.06 2.06-.94-2.06-.94L8.5 2.5l-.94 2.06-2.06.94zm10 10l.94 2.06.94-2.06 2.06-.94-2.06-.94-.94-2.06-.94 2.06-2.06.94z\"/><path d=\"M17.41 7.96l-1.37-1.37c-.4-.4-.92-.59-1.43-.59-.52 0-1.04.2-1.43.59L10.3 9.45l-7.72 7.72c-.78.78-.78 2.05 0 2.83L4 21.41c.39.39.9.59 1.41.59.51 0 1.02-.2 1.41-.59l7.78-7.78 2.81-2.81c.8-.78.8-2.07 0-2.86zM5.41 20L4 18.59l7.72-7.72 1.47 1.35L5.41 20z\"/>\n",
              "  </svg>\n",
              "      </button>\n",
              "      \n",
              "  <style>\n",
              "    .colab-df-container {\n",
              "      display:flex;\n",
              "      flex-wrap:wrap;\n",
              "      gap: 12px;\n",
              "    }\n",
              "\n",
              "    .colab-df-convert {\n",
              "      background-color: #E8F0FE;\n",
              "      border: none;\n",
              "      border-radius: 50%;\n",
              "      cursor: pointer;\n",
              "      display: none;\n",
              "      fill: #1967D2;\n",
              "      height: 32px;\n",
              "      padding: 0 0 0 0;\n",
              "      width: 32px;\n",
              "    }\n",
              "\n",
              "    .colab-df-convert:hover {\n",
              "      background-color: #E2EBFA;\n",
              "      box-shadow: 0px 1px 2px rgba(60, 64, 67, 0.3), 0px 1px 3px 1px rgba(60, 64, 67, 0.15);\n",
              "      fill: #174EA6;\n",
              "    }\n",
              "\n",
              "    [theme=dark] .colab-df-convert {\n",
              "      background-color: #3B4455;\n",
              "      fill: #D2E3FC;\n",
              "    }\n",
              "\n",
              "    [theme=dark] .colab-df-convert:hover {\n",
              "      background-color: #434B5C;\n",
              "      box-shadow: 0px 1px 3px 1px rgba(0, 0, 0, 0.15);\n",
              "      filter: drop-shadow(0px 1px 2px rgba(0, 0, 0, 0.3));\n",
              "      fill: #FFFFFF;\n",
              "    }\n",
              "  </style>\n",
              "\n",
              "      <script>\n",
              "        const buttonEl =\n",
              "          document.querySelector('#df-61974db9-662f-49f9-8c87-de02c5bc4562 button.colab-df-convert');\n",
              "        buttonEl.style.display =\n",
              "          google.colab.kernel.accessAllowed ? 'block' : 'none';\n",
              "\n",
              "        async function convertToInteractive(key) {\n",
              "          const element = document.querySelector('#df-61974db9-662f-49f9-8c87-de02c5bc4562');\n",
              "          const dataTable =\n",
              "            await google.colab.kernel.invokeFunction('convertToInteractive',\n",
              "                                                     [key], {});\n",
              "          if (!dataTable) return;\n",
              "\n",
              "          const docLinkHtml = 'Like what you see? Visit the ' +\n",
              "            '<a target=\"_blank\" href=https://colab.research.google.com/notebooks/data_table.ipynb>data table notebook</a>'\n",
              "            + ' to learn more about interactive tables.';\n",
              "          element.innerHTML = '';\n",
              "          dataTable['output_type'] = 'display_data';\n",
              "          await google.colab.output.renderOutput(dataTable, element);\n",
              "          const docLink = document.createElement('div');\n",
              "          docLink.innerHTML = docLinkHtml;\n",
              "          element.appendChild(docLink);\n",
              "        }\n",
              "      </script>\n",
              "    </div>\n",
              "  </div>\n",
              "  "
            ]
          },
          "metadata": {},
          "execution_count": 20
        }
      ],
      "source": [
        "data = data.drop(columns=['title','text', 'subject', 'date'])\n",
        "data.head(10)\n"
      ]
    },
    {
      "cell_type": "markdown",
      "id": "f6769907",
      "metadata": {
        "id": "f6769907"
      },
      "source": [
        "### XI. Calculate the length of each text (I mean AllText column) and put them in a length column"
      ]
    },
    {
      "cell_type": "code",
      "execution_count": null,
      "id": "b4c25d42",
      "metadata": {
        "colab": {
          "base_uri": "https://localhost:8080/"
        },
        "id": "b4c25d42",
        "outputId": "eef0af93-bc48-40c4-e8ba-089fd89fc317"
      },
      "outputs": [
        {
          "output_type": "execute_result",
          "data": {
            "text/plain": [
              "   target                                            AllText  length\n",
              "0       1  As U.S. budget fight looms, Republicans flip t...    4737\n",
              "1       1  U.S. military to accept transgender recruits o...    4155\n",
              "2       1  Senior U.S. Republican senator: 'Let Mr. Muell...    2863\n",
              "3       1  FBI Russia probe helped by Australian diplomat...    2534\n",
              "4       1  Trump wants Postal Service to charge 'much mor...    5287"
            ],
            "text/html": [
              "\n",
              "  <div id=\"df-226bebac-be41-412c-ad18-4153a3a535ac\">\n",
              "    <div class=\"colab-df-container\">\n",
              "      <div>\n",
              "<style scoped>\n",
              "    .dataframe tbody tr th:only-of-type {\n",
              "        vertical-align: middle;\n",
              "    }\n",
              "\n",
              "    .dataframe tbody tr th {\n",
              "        vertical-align: top;\n",
              "    }\n",
              "\n",
              "    .dataframe thead th {\n",
              "        text-align: right;\n",
              "    }\n",
              "</style>\n",
              "<table border=\"1\" class=\"dataframe\">\n",
              "  <thead>\n",
              "    <tr style=\"text-align: right;\">\n",
              "      <th></th>\n",
              "      <th>target</th>\n",
              "      <th>AllText</th>\n",
              "      <th>length</th>\n",
              "    </tr>\n",
              "  </thead>\n",
              "  <tbody>\n",
              "    <tr>\n",
              "      <th>0</th>\n",
              "      <td>1</td>\n",
              "      <td>As U.S. budget fight looms, Republicans flip t...</td>\n",
              "      <td>4737</td>\n",
              "    </tr>\n",
              "    <tr>\n",
              "      <th>1</th>\n",
              "      <td>1</td>\n",
              "      <td>U.S. military to accept transgender recruits o...</td>\n",
              "      <td>4155</td>\n",
              "    </tr>\n",
              "    <tr>\n",
              "      <th>2</th>\n",
              "      <td>1</td>\n",
              "      <td>Senior U.S. Republican senator: 'Let Mr. Muell...</td>\n",
              "      <td>2863</td>\n",
              "    </tr>\n",
              "    <tr>\n",
              "      <th>3</th>\n",
              "      <td>1</td>\n",
              "      <td>FBI Russia probe helped by Australian diplomat...</td>\n",
              "      <td>2534</td>\n",
              "    </tr>\n",
              "    <tr>\n",
              "      <th>4</th>\n",
              "      <td>1</td>\n",
              "      <td>Trump wants Postal Service to charge 'much mor...</td>\n",
              "      <td>5287</td>\n",
              "    </tr>\n",
              "  </tbody>\n",
              "</table>\n",
              "</div>\n",
              "      <button class=\"colab-df-convert\" onclick=\"convertToInteractive('df-226bebac-be41-412c-ad18-4153a3a535ac')\"\n",
              "              title=\"Convert this dataframe to an interactive table.\"\n",
              "              style=\"display:none;\">\n",
              "        \n",
              "  <svg xmlns=\"http://www.w3.org/2000/svg\" height=\"24px\"viewBox=\"0 0 24 24\"\n",
              "       width=\"24px\">\n",
              "    <path d=\"M0 0h24v24H0V0z\" fill=\"none\"/>\n",
              "    <path d=\"M18.56 5.44l.94 2.06.94-2.06 2.06-.94-2.06-.94-.94-2.06-.94 2.06-2.06.94zm-11 1L8.5 8.5l.94-2.06 2.06-.94-2.06-.94L8.5 2.5l-.94 2.06-2.06.94zm10 10l.94 2.06.94-2.06 2.06-.94-2.06-.94-.94-2.06-.94 2.06-2.06.94z\"/><path d=\"M17.41 7.96l-1.37-1.37c-.4-.4-.92-.59-1.43-.59-.52 0-1.04.2-1.43.59L10.3 9.45l-7.72 7.72c-.78.78-.78 2.05 0 2.83L4 21.41c.39.39.9.59 1.41.59.51 0 1.02-.2 1.41-.59l7.78-7.78 2.81-2.81c.8-.78.8-2.07 0-2.86zM5.41 20L4 18.59l7.72-7.72 1.47 1.35L5.41 20z\"/>\n",
              "  </svg>\n",
              "      </button>\n",
              "      \n",
              "  <style>\n",
              "    .colab-df-container {\n",
              "      display:flex;\n",
              "      flex-wrap:wrap;\n",
              "      gap: 12px;\n",
              "    }\n",
              "\n",
              "    .colab-df-convert {\n",
              "      background-color: #E8F0FE;\n",
              "      border: none;\n",
              "      border-radius: 50%;\n",
              "      cursor: pointer;\n",
              "      display: none;\n",
              "      fill: #1967D2;\n",
              "      height: 32px;\n",
              "      padding: 0 0 0 0;\n",
              "      width: 32px;\n",
              "    }\n",
              "\n",
              "    .colab-df-convert:hover {\n",
              "      background-color: #E2EBFA;\n",
              "      box-shadow: 0px 1px 2px rgba(60, 64, 67, 0.3), 0px 1px 3px 1px rgba(60, 64, 67, 0.15);\n",
              "      fill: #174EA6;\n",
              "    }\n",
              "\n",
              "    [theme=dark] .colab-df-convert {\n",
              "      background-color: #3B4455;\n",
              "      fill: #D2E3FC;\n",
              "    }\n",
              "\n",
              "    [theme=dark] .colab-df-convert:hover {\n",
              "      background-color: #434B5C;\n",
              "      box-shadow: 0px 1px 3px 1px rgba(0, 0, 0, 0.15);\n",
              "      filter: drop-shadow(0px 1px 2px rgba(0, 0, 0, 0.3));\n",
              "      fill: #FFFFFF;\n",
              "    }\n",
              "  </style>\n",
              "\n",
              "      <script>\n",
              "        const buttonEl =\n",
              "          document.querySelector('#df-226bebac-be41-412c-ad18-4153a3a535ac button.colab-df-convert');\n",
              "        buttonEl.style.display =\n",
              "          google.colab.kernel.accessAllowed ? 'block' : 'none';\n",
              "\n",
              "        async function convertToInteractive(key) {\n",
              "          const element = document.querySelector('#df-226bebac-be41-412c-ad18-4153a3a535ac');\n",
              "          const dataTable =\n",
              "            await google.colab.kernel.invokeFunction('convertToInteractive',\n",
              "                                                     [key], {});\n",
              "          if (!dataTable) return;\n",
              "\n",
              "          const docLinkHtml = 'Like what you see? Visit the ' +\n",
              "            '<a target=\"_blank\" href=https://colab.research.google.com/notebooks/data_table.ipynb>data table notebook</a>'\n",
              "            + ' to learn more about interactive tables.';\n",
              "          element.innerHTML = '';\n",
              "          dataTable['output_type'] = 'display_data';\n",
              "          await google.colab.output.renderOutput(dataTable, element);\n",
              "          const docLink = document.createElement('div');\n",
              "          docLink.innerHTML = docLinkHtml;\n",
              "          element.appendChild(docLink);\n",
              "        }\n",
              "      </script>\n",
              "    </div>\n",
              "  </div>\n",
              "  "
            ]
          },
          "metadata": {},
          "execution_count": 21
        }
      ],
      "source": [
        "data['length'] = data['AllText'].apply(len)\n",
        "data.head()"
      ]
    },
    {
      "cell_type": "markdown",
      "id": "ea84ad5e",
      "metadata": {
        "id": "ea84ad5e"
      },
      "source": [
        "### XII. Plot two histograms to see the distribution of the lengths. One for fake news and one for true news. Write in words about the plots."
      ]
    },
    {
      "cell_type": "code",
      "execution_count": null,
      "id": "bc62d41a",
      "metadata": {
        "colab": {
          "base_uri": "https://localhost:8080/"
        },
        "id": "bc62d41a",
        "outputId": "a9ecffad-df8c-4f07-e0ad-c05f67f02e83"
      },
      "outputs": [
        {
          "output_type": "execute_result",
          "data": {
            "text/plain": [
              "array([<matplotlib.axes._subplots.AxesSubplot object at 0x7ff83d336f50>,\n",
              "       <matplotlib.axes._subplots.AxesSubplot object at 0x7ff83d191a90>],\n",
              "      dtype=object)"
            ]
          },
          "metadata": {},
          "execution_count": 22
        },
        {
          "output_type": "display_data",
          "data": {
            "text/plain": [
              "<Figure size 1440x720 with 2 Axes>"
            ],
            "image/png": "[encoded data removed]"
          },
          "metadata": {
            "needs_background": "light"
          }
        }
      ],
      "source": [
        "data.hist(column='length', by='target', bins=50,figsize=(20,10))"
      ]
    },
    {
      "cell_type": "markdown",
      "id": "8feca26d",
      "metadata": {
        "id": "8feca26d"
      },
      "source": [
        "#### Fake news has may lenghthy posts in the 7000 where as true news has many in shorter lenghts like 3500 so about half.  True news is more unifom to where there is a reasonable distribution between many word counts fro 500 to 3500 where as the fake news has a much narrower more concentrated hist.  Meaning most the data are within a set lenghth"
      ]
    },
    {
      "cell_type": "markdown",
      "id": "3df2fe75",
      "metadata": {
        "id": "3df2fe75"
      },
      "source": [
        "### XIII. Write in Words: What is TFIDF? How to create bag of words using sklearn? And how to generate TFIDF for the bag of words?"
      ]
    },
    {
      "cell_type": "markdown",
      "id": "80a53089",
      "metadata": {
        "id": "80a53089"
      },
      "source": [
        "#### Ter Frequency –Inverse Document Frequency (TFIDF).  This is a measurment that indicates how important a word is based on its useage on all docuemnts. With TFIDF frequent terms in the text are given higher weight and rewarded such as \"the\", \"a\", ... but their weight is also punished if they are frequent in one docuemnts and also the other documents.   In the same token it also rewads the words that are very rare and unique in the text and cannot be found as frequently in other test as an indicator that the text is highly related to the rare words as the word is uncomoon in other texts.  \n",
        "\n",
        "#### applying the Scikit-learn’s CountVectorizer. First, we instantiate a CountVectorizer object and later we learn the term frequency of each word within the document. In the end, we return the document-term matrix.  CountVectorizer provides the get_features_name method, which contains the uniques words of the vocabulary, taken into account later to create the desired document-term matrix X.  If we want to  to remove the stop words wwe only need to add stop_words='english argument in the CountVectorizer functio"
      ]
    },
    {
      "cell_type": "markdown",
      "id": "d06466ac",
      "metadata": {
        "id": "d06466ac"
      },
      "source": [
        "## 2. Train Test Split"
      ]
    },
    {
      "cell_type": "markdown",
      "id": "44283a83",
      "metadata": {
        "id": "44283a83"
      },
      "source": [
        "### I. Import related libraries and perform train test split. Keep 20% data in the test set"
      ]
    },
    {
      "cell_type": "code",
      "execution_count": null,
      "id": "a026d998",
      "metadata": {
        "colab": {
          "base_uri": "https://localhost:8080/"
        },
        "id": "a026d998",
        "outputId": "a1d9f499-b6dd-4b15-dbff-1e68e8eba886"
      },
      "outputs": [
        {
          "output_type": "stream",
          "name": "stdout",
          "text": [
            "35918 8980 44898\n",
            "35918 8980 35918 8980\n"
          ]
        }
      ],
      "source": [
        "from sklearn.model_selection import train_test_split\n",
        "\n",
        "X = data.drop(columns=['target'])\n",
        "msg_train, msg_test, label_train, label_test =  train_test_split(data['AllText'], data['target'], test_size=0.2)\n",
        "\n",
        "print(len(msg_train), len(msg_test), len(msg_train) + len(msg_test))\n",
        "\n",
        "\n",
        "\n",
        "X = data.drop(columns=['target'])\n",
        "y = data.drop(columns=['AllText', 'length'])\n",
        "\n",
        "X_tarin, X_test, y_train, y_test =  train_test_split(X, y, test_size=0.2)\n",
        "\n",
        "print(len(X_tarin), len(X_test), len(y_train) , len(y_test))\n",
        "\n"
      ]
    },
    {
      "cell_type": "code",
      "execution_count": null,
      "id": "a6bb94ed",
      "metadata": {
        "colab": {
          "base_uri": "https://localhost:8080/"
        },
        "id": "a6bb94ed",
        "outputId": "0e0a5514-bf81-47f8-8025-cdc758d6bddd"
      },
      "outputs": [
        {
          "output_type": "execute_result",
          "data": {
            "text/plain": [
              "13777    1\n",
              "10297    1\n",
              "20776    1\n",
              "44078    0\n",
              "13875    1\n",
              "27966    0\n",
              "43977    0\n",
              "14473    1\n",
              "4756     1\n",
              "15135    1\n",
              "Name: target, dtype: int64"
            ]
          },
          "metadata": {},
          "execution_count": 24
        }
      ],
      "source": [
        "label_train.head(10)"
      ]
    },
    {
      "cell_type": "markdown",
      "id": "a26b83fe",
      "metadata": {
        "id": "a26b83fe"
      },
      "source": [
        "### II. Using a count plot show how many real and fake news do we have in the training set and how many in the test set\n"
      ]
    },
    {
      "cell_type": "code",
      "execution_count": null,
      "id": "99c6d81d",
      "metadata": {
        "colab": {
          "base_uri": "https://localhost:8080/"
        },
        "id": "99c6d81d",
        "outputId": "4eb608e9-ee11-4ac2-c1fc-d7d2b5739947"
      },
      "outputs": [
        {
          "output_type": "execute_result",
          "data": {
            "text/plain": [
              "<matplotlib.axes._subplots.AxesSubplot at 0x7ff83d33c890>"
            ]
          },
          "metadata": {},
          "execution_count": 25
        },
        {
          "output_type": "display_data",
          "data": {
            "text/plain": [
              "<Figure size 1440x720 with 1 Axes>"
            ],
            "image/png": "[encoded data removed]"
          },
          "metadata": {
            "needs_background": "light"
          }
        }
      ],
      "source": [
        "plt.figure(figsize = (20,10))\n",
        "\n",
        "sns.countplot(x='target', data=y_test)"
      ]
    },
    {
      "cell_type": "code",
      "execution_count": null,
      "id": "97642ee8",
      "metadata": {
        "colab": {
          "base_uri": "https://localhost:8080/"
        },
        "id": "97642ee8",
        "outputId": "2e28bf34-222b-407d-9fb6-693581e1f69d"
      },
      "outputs": [
        {
          "output_type": "execute_result",
          "data": {
            "text/plain": [
              "<matplotlib.axes._subplots.AxesSubplot at 0x7ff83d412e10>"
            ]
          },
          "metadata": {},
          "execution_count": 26
        },
        {
          "output_type": "display_data",
          "data": {
            "text/plain": [
              "<Figure size 1440x720 with 1 Axes>"
            ],
            "image/png": "[encoded data removed]"
          },
          "metadata": {
            "needs_background": "light"
          }
        }
      ],
      "source": [
        "plt.figure(figsize = (20,10))\n",
        "\n",
        "sns.countplot(x=\"target\", data=y_train)"
      ]
    },
    {
      "cell_type": "markdown",
      "id": "70007668",
      "metadata": {
        "id": "70007668"
      },
      "source": [
        "## 3. Training and Testing Fake news classifier using MultinomialNB\n",
        " "
      ]
    },
    {
      "cell_type": "markdown",
      "id": "1665bdd0",
      "metadata": {
        "id": "1665bdd0"
      },
      "source": [
        "### I. Create a pipeline that will use countVectorizer with the function you have created earlier for data preprocessing, then use Tftransformer and then use the NaiveBayes classifier"
      ]
    },
    {
      "cell_type": "code",
      "execution_count": null,
      "id": "2a833b23",
      "metadata": {
        "colab": {
          "base_uri": "https://localhost:8080/"
        },
        "id": "2a833b23",
        "outputId": "bfc3e51a-09ac-4ddd-a17b-f8a0a46fca5e"
      },
      "outputs": [
        {
          "output_type": "stream",
          "name": "stdout",
          "text": [
            "[nltk_data] Downloading package stopwords to /root/nltk_data...\n",
            "[nltk_data]   Unzipping corpora/stopwords.zip.\n"
          ]
        },
        {
          "output_type": "execute_result",
          "data": {
            "text/plain": [
              "True"
            ]
          },
          "metadata": {},
          "execution_count": 27
        }
      ],
      "source": [
        "nltk.download('stopwords')\n"
      ]
    },
    {
      "cell_type": "code",
      "execution_count": null,
      "id": "937658b4",
      "metadata": {
        "colab": {
          "base_uri": "https://localhost:8080/"
        },
        "id": "937658b4",
        "outputId": "e2c63609-f96d-4363-8d6d-d6136700c11c"
      },
      "outputs": [
        {
          "output_type": "execute_result",
          "data": {
            "text/plain": [
              "['i', 'me', 'my', 'myself', 'we', 'our', 'ours', 'ourselves', 'you', \"you're\"]"
            ]
          },
          "metadata": {},
          "execution_count": 28
        }
      ],
      "source": [
        "from nltk.corpus import stopwords\n",
        "stopwords.words('english')[0:10] # Show some stop words"
      ]
    },
    {
      "cell_type": "code",
      "execution_count": null,
      "id": "21653921",
      "metadata": {
        "id": "21653921"
      },
      "outputs": [],
      "source": [
        "from nltk.stem.lancaster import LancasterStemmer\n",
        "import string\n",
        "\n",
        "stemmer = LancasterStemmer()\n",
        "\n",
        "def process(text):\n",
        "\n",
        "    stopwordList = stopwords.words('english')\n",
        "\n",
        "    # Check characters to see if they are in punctuation\n",
        "    text1 = [char for char in text if char not in string.punctuation]\n",
        "     # Join the characters again to form the string.\n",
        "    text1 = ''.join(text)\n",
        "\n",
        "    words = nltk.word_tokenize(text1)\n",
        "    words = [t for t in words if t not in stopwordList]\n",
        "    words = [stemmer.stem(w.lower()) for w in words]\n",
        "\n",
        "    return words"
      ]
    },
    {
      "cell_type": "code",
      "execution_count": null,
      "id": "9584feee",
      "metadata": {
        "colab": {
          "base_uri": "https://localhost:8080/"
        },
        "id": "9584feee",
        "outputId": "3e352350-5cc7-4b4d-e96d-0a5d6370d0dc"
      },
      "outputs": [
        {
          "output_type": "execute_result",
          "data": {
            "text/plain": [
              "0    [as, u.s., budget, fight, loom, ,, republ, fli...\n",
              "1    [u.s., milit, acceiv, transgend, recruit, mond...\n",
              "2    [seny, u.s., republ, sen, :, 'let, mr., muel, ...\n",
              "3    [fbi, russ, prob, help, aust, diplom, tip-off,...\n",
              "4    [trump, want, post, serv, charg, 'much, ', ama...\n",
              "Name: AllText, dtype: object"
            ]
          },
          "metadata": {},
          "execution_count": 30
        }
      ],
      "source": [
        "data['AllText'].head(5).apply(process)"
      ]
    },
    {
      "cell_type": "code",
      "execution_count": null,
      "id": "d21b1f1e",
      "metadata": {
        "colab": {
          "base_uri": "https://localhost:8080/"
        },
        "id": "d21b1f1e",
        "outputId": "0170a123-bd32-4a61-cbfb-bbafefeb3019"
      },
      "outputs": [
        {
          "output_type": "stream",
          "name": "stdout",
          "text": [
            "218937\n"
          ]
        }
      ],
      "source": [
        "from sklearn.feature_extraction.text import CountVectorizer \n",
        "transformer = CountVectorizer(analyzer=process).fit(data['AllText']) \n",
        "print(len(transformer.vocabulary_))"
      ]
    },
    {
      "cell_type": "code",
      "execution_count": null,
      "id": "4baca6f0",
      "metadata": {
        "colab": {
          "base_uri": "https://localhost:8080/"
        },
        "id": "4baca6f0",
        "outputId": "90aba5a7-2fd8-4b5a-a5e4-6c3a57291b43"
      },
      "outputs": [
        {
          "output_type": "execute_result",
          "data": {
            "text/plain": [
              "<44898x218937 sparse matrix of type '<class 'numpy.int64'>'\n",
              "\twith 7723879 stored elements in Compressed Sparse Row format>"
            ]
          },
          "metadata": {},
          "execution_count": 32
        }
      ],
      "source": [
        "data2 = transformer.transform(data['AllText'])\n",
        "data2"
      ]
    },
    {
      "cell_type": "code",
      "execution_count": null,
      "id": "d41f4978",
      "metadata": {
        "colab": {
          "base_uri": "https://localhost:8080/"
        },
        "id": "d41f4978",
        "outputId": "9b4320cc-8e2d-4ea0-cae3-fbc6235e21de"
      },
      "outputs": [
        {
          "output_type": "stream",
          "name": "stdout",
          "text": [
            "Senior U.S. Republican senator: 'Let Mr. Mueller do his job'_WASHINGTON (Reuters) - The special counsel investigation of links between Russia and President Trump’s 2016 election campaign should continue without interference in 2018, despite calls from some Trump administration allies and Republican lawmakers to shut it down, a prominent Republican senator said on Sunday. Lindsey Graham, who serves on the Senate armed forces and judiciary committees, said Department of Justice Special Counsel Robert Mueller needs to carry on with his Russia investigation without political interference. “This investigation will go forward. It will be an investigation conducted without political influence,” Graham said on CBS’s Face the Nation news program. “And we all need to let Mr. Mueller do his job. I think he’s the right guy at the right time.”  The question of how Russia may have interfered in the election, and how Trump’s campaign may have had links with or co-ordinated any such effort, has loomed over the White House since Trump took office in January. It shows no sign of receding as Trump prepares for his second year in power, despite intensified rhetoric from some Trump allies in recent weeks accusing Mueller’s team of bias against the Republican president. Trump himself seemed to undercut his supporters in an interview last week with the New York Times in which he said he expected Mueller was “going to be fair.”    Russia’s role in the election and the question of possible links to the Trump campaign are the focus of multiple inquiries in Washington. Three committees of the Senate and the House of Representatives are investigating, as well as Mueller, whose team in May took over an earlier probe launched by the U.S. Federal Bureau of Investigation (FBI). Several members of the Trump campaign and administration have been convicted or indicted in the investigation.  Trump and his allies deny any collusion with Russia during the campaign, and the Kremlin has denied meddling in the election. Graham said he still wants an examination of the FBI’s use of a dossier on links between Trump and Russia that was compiled by a former British spy, Christopher Steele, which prompted Trump allies and some Republicans to question Mueller’s inquiry.   On Saturday, the New York Times reported that it was not that dossier that triggered an early FBI probe, but a tip from former Trump campaign foreign policy adviser George Papadopoulos to an Australian diplomat that Russia had damaging information about former Trump rival Hillary Clinton.  “I want somebody to look at the way the Department of Justice used this dossier. It bothers me greatly the way they used it, and I want somebody to look at it,” Graham said. But he said the Russia investigation must continue. “As a matter of fact, it would hurt us if we ignored it,” he said. _politicsNews\n"
          ]
        }
      ],
      "source": [
        "message3 = data['AllText'][2]\n",
        "print(message3)"
      ]
    },
    {
      "cell_type": "code",
      "execution_count": null,
      "id": "dafb7e32",
      "metadata": {
        "colab": {
          "base_uri": "https://localhost:8080/"
        },
        "id": "dafb7e32",
        "outputId": "5bd710d0-ebc4-47c3-c84a-c7f32aba086f"
      },
      "outputs": [
        {
          "output_type": "stream",
          "name": "stdout",
          "text": [
            "  (0, 741)\t1\n",
            "  (0, 1492)\t2\n",
            "  (0, 1493)\t2\n",
            "  (0, 1826)\t19\n",
            "  (0, 1840)\t1\n",
            "  (0, 2236)\t17\n",
            "  (0, 12143)\t1\n",
            "  (0, 14573)\t1\n",
            "  (0, 22057)\t1\n",
            "  (0, 23179)\t1\n",
            "  (0, 25004)\t1\n",
            "  (0, 25980)\t2\n",
            "  (0, 26243)\t1\n",
            "  (0, 28189)\t4\n",
            "  (0, 31241)\t1\n",
            "  (0, 34006)\t1\n",
            "  (0, 34486)\t1\n",
            "  (0, 36006)\t1\n",
            "  (0, 40942)\t1\n",
            "  (0, 43869)\t1\n",
            "  (0, 45029)\t1\n",
            "  (0, 46103)\t1\n",
            "  (0, 46557)\t1\n",
            "  (0, 47181)\t1\n",
            "  (0, 47618)\t6\n",
            "  :\t:\n",
            "  (0, 194680)\t1\n",
            "  (0, 195366)\t1\n",
            "  (0, 196004)\t2\n",
            "  (0, 196046)\t1\n",
            "  (0, 196548)\t1\n",
            "  (0, 197679)\t2\n",
            "  (0, 199187)\t1\n",
            "  (0, 199626)\t14\n",
            "  (0, 202418)\t2\n",
            "  (0, 203619)\t1\n",
            "  (0, 205283)\t4\n",
            "  (0, 209692)\t3\n",
            "  (0, 210258)\t1\n",
            "  (0, 210677)\t2\n",
            "  (0, 211354)\t2\n",
            "  (0, 211749)\t1\n",
            "  (0, 212676)\t1\n",
            "  (0, 212901)\t1\n",
            "  (0, 214004)\t3\n",
            "  (0, 215315)\t1\n",
            "  (0, 216502)\t1\n",
            "  (0, 217316)\t2\n",
            "  (0, 218716)\t8\n",
            "  (0, 218717)\t5\n",
            "  (0, 218718)\t5\n",
            "(1, 218937)\n"
          ]
        }
      ],
      "source": [
        "bow3 = transformer.transform([message3])\n",
        "print(bow3)\n",
        "print(bow3.shape)"
      ]
    },
    {
      "cell_type": "code",
      "execution_count": null,
      "id": "248bbd8c",
      "metadata": {
        "colab": {
          "base_uri": "https://localhost:8080/"
        },
        "id": "248bbd8c",
        "outputId": "46e17677-b58d-4b94-d612-91e596dc03e3"
      },
      "outputs": [
        {
          "output_type": "stream",
          "name": "stdout",
          "text": [
            "'1484931600000\n"
          ]
        }
      ],
      "source": [
        "print(transformer.get_feature_names_out()[16])\n"
      ]
    },
    {
      "cell_type": "code",
      "execution_count": null,
      "id": "3be47785",
      "metadata": {
        "id": "3be47785"
      },
      "outputs": [],
      "source": [
        "from sklearn.feature_extraction.text import TfidfTransformer\n"
      ]
    },
    {
      "cell_type": "code",
      "execution_count": null,
      "id": "abde638a",
      "metadata": {
        "colab": {
          "base_uri": "https://localhost:8080/"
        },
        "id": "abde638a",
        "outputId": "344e5e94-1d94-4b90-875b-fa52475dc21f"
      },
      "outputs": [
        {
          "output_type": "stream",
          "name": "stdout",
          "text": [
            "(44898, 218937)\n"
          ]
        }
      ],
      "source": [
        "tfidf_transformer = TfidfTransformer().fit(data2)\n",
        "data_tfidf = tfidf_transformer.transform(data2)\n",
        "print(data_tfidf.shape) "
      ]
    },
    {
      "cell_type": "code",
      "execution_count": null,
      "id": "f3b0f42f",
      "metadata": {
        "colab": {
          "base_uri": "https://localhost:8080/"
        },
        "id": "f3b0f42f",
        "outputId": "1fbb5eee-8a9f-4704-b0be-ff9af1ce87a1"
      },
      "outputs": [
        {
          "output_type": "execute_result",
          "data": {
            "text/plain": [
              "<44898x218937 sparse matrix of type '<class 'numpy.float64'>'\n",
              "\twith 7723879 stored elements in Compressed Sparse Row format>"
            ]
          },
          "metadata": {},
          "execution_count": 38
        }
      ],
      "source": [
        "data_tfidf"
      ]
    },
    {
      "cell_type": "code",
      "execution_count": null,
      "id": "969d8926",
      "metadata": {
        "colab": {
          "base_uri": "https://localhost:8080/"
        },
        "id": "969d8926",
        "outputId": "30f4905a-49eb-48ab-cdae-4f33ec655572"
      },
      "outputs": [
        {
          "output_type": "stream",
          "name": "stdout",
          "text": [
            "[1 1 1 ... 1 0 0]\n"
          ]
        }
      ],
      "source": [
        "from sklearn.naive_bayes import MultinomialNB\n",
        "model = MultinomialNB().fit(data_tfidf, data['target'])\n",
        "\n",
        "all_predictions = model.predict(data_tfidf)\n",
        "print(all_predictions)"
      ]
    },
    {
      "cell_type": "code",
      "execution_count": null,
      "id": "3e505a00",
      "metadata": {
        "id": "3e505a00"
      },
      "outputs": [],
      "source": [
        "from sklearn.pipeline import Pipeline\n",
        "\n",
        "pipeline = Pipeline([\n",
        "    ('bow', CountVectorizer(analyzer=process)),  # strings to token integer counts\n",
        "    ('tfidf', TfidfTransformer()),  # integer counts to weighted TF-IDF scores\n",
        "    ('classifier', MultinomialNB()),  # train on TF-IDF vectors w/ Naive Bayes classifier\n",
        "])"
      ]
    },
    {
      "cell_type": "markdown",
      "id": "ff44ca7b",
      "metadata": {
        "id": "ff44ca7b"
      },
      "source": [
        "### II. Fit the pipeline and then perform prediction"
      ]
    },
    {
      "cell_type": "code",
      "execution_count": null,
      "id": "b89884da",
      "metadata": {
        "colab": {
          "base_uri": "https://localhost:8080/"
        },
        "id": "b89884da",
        "outputId": "b70c3379-5641-418a-834b-ee373ba8b6c3"
      },
      "outputs": [
        {
          "output_type": "execute_result",
          "data": {
            "text/plain": [
              "Pipeline(steps=[('bow',\n",
              "                 CountVectorizer(analyzer=<function process at 0x7ff83d306680>)),\n",
              "                ('tfidf', TfidfTransformer()),\n",
              "                ('classifier', MultinomialNB())])"
            ]
          },
          "metadata": {},
          "execution_count": 41
        }
      ],
      "source": [
        "pipeline.fit(msg_train,label_train)"
      ]
    },
    {
      "cell_type": "code",
      "execution_count": null,
      "id": "26b3f0c1",
      "metadata": {
        "id": "26b3f0c1"
      },
      "outputs": [],
      "source": [
        "predictions = pipeline.predict(msg_test)  "
      ]
    },
    {
      "cell_type": "markdown",
      "id": "d19ae9e3",
      "metadata": {
        "id": "d19ae9e3"
      },
      "source": [
        "### III. Generate classification report and confusion matrix (you have to achieve at least 96% accuracy for the test set to receive full credit)"
      ]
    },
    {
      "cell_type": "code",
      "execution_count": null,
      "id": "089a0c94",
      "metadata": {
        "id": "089a0c94"
      },
      "outputs": [],
      "source": [
        "from sklearn.metrics import classification_report, confusion_matrix"
      ]
    },
    {
      "cell_type": "code",
      "execution_count": null,
      "id": "f1257e7c",
      "metadata": {
        "colab": {
          "base_uri": "https://localhost:8080/"
        },
        "id": "f1257e7c",
        "outputId": "b810fa8a-1483-4b36-a70f-18fadf92e590"
      },
      "outputs": [
        {
          "output_type": "stream",
          "name": "stdout",
          "text": [
            "[[4565  167]\n",
            " [ 170 4078]]\n"
          ]
        }
      ],
      "source": [
        "print(confusion_matrix(label_test, predictions))  \n"
      ]
    },
    {
      "cell_type": "code",
      "execution_count": null,
      "id": "7a870fab",
      "metadata": {
        "colab": {
          "base_uri": "https://localhost:8080/"
        },
        "id": "7a870fab",
        "outputId": "26f413ca-5f88-4318-b371-e2c701abc82b"
      },
      "outputs": [
        {
          "output_type": "execute_result",
          "data": {
            "text/plain": [
              "(4565, 167, 170, 4078)"
            ]
          },
          "metadata": {},
          "execution_count": 45
        }
      ],
      "source": [
        "tn, fp, fn, tp = confusion_matrix(label_test, predictions).ravel()\n",
        "tn, fp, fn, tp\n",
        "\n"
      ]
    },
    {
      "cell_type": "code",
      "execution_count": null,
      "id": "f26cc097",
      "metadata": {
        "colab": {
          "base_uri": "https://localhost:8080/"
        },
        "id": "f26cc097",
        "outputId": "ca3222a5-404b-4c0f-8acd-f9ae8485e118"
      },
      "outputs": [
        {
          "output_type": "stream",
          "name": "stdout",
          "text": [
            "              precision    recall  f1-score   support\n",
            "\n",
            "           0       0.96      0.96      0.96      4732\n",
            "           1       0.96      0.96      0.96      4248\n",
            "\n",
            "    accuracy                           0.96      8980\n",
            "   macro avg       0.96      0.96      0.96      8980\n",
            "weighted avg       0.96      0.96      0.96      8980\n",
            "\n"
          ]
        }
      ],
      "source": [
        "print(classification_report(label_test, predictions))   "
      ]
    },
    {
      "cell_type": "markdown",
      "id": "537e4c13",
      "metadata": {
        "id": "537e4c13"
      },
      "source": [
        "### IV. Discuss the performance like how good the model is overall, how good is it in predicting fake news, and how good is it in predicting true news."
      ]
    },
    {
      "cell_type": "markdown",
      "id": "80f5aa6a",
      "metadata": {
        "id": "80f5aa6a"
      },
      "source": [
        "#### model is performing at over 96% accuracy.  Looking at precision and recall and f1 score all all are 97% for fale new and 96% for true news.  number of false negatives and false positives are 157 and 163 only which among 8900+ data is neglagible.\n"
      ]
    },
    {
      "cell_type": "markdown",
      "id": "a9ae9ca9",
      "metadata": {
        "id": "a9ae9ca9"
      },
      "source": [
        "### V. Copy a part of any news of your choice from a news website and then use the model to predict whether is it true or not. "
      ]
    },
    {
      "cell_type": "code",
      "execution_count": null,
      "id": "e5287e8e",
      "metadata": {
        "colab": {
          "base_uri": "https://localhost:8080/"
        },
        "id": "e5287e8e",
        "outputId": "11e0de64-0af4-42b5-eb0f-75771a9f1ce0"
      },
      "outputs": [
        {
          "output_type": "execute_result",
          "data": {
            "text/plain": [
              "array([0])"
            ]
          },
          "metadata": {},
          "execution_count": 47
        }
      ],
      "source": [
        "newSMS = \"A series of May primaries represent the biggest test yet of Donald Trump’s post-presidential influence on the Republican electorate, with the outcomes carrying implications for his potential third White House campaign and control of Congress.The fate of several of Mr. Trump’s highest-profile endorsements will be determined during a month that features a dozen primaries from coast to coast. GOP contests for U.S. Senate in Ohio on Tuesday and the battleground states of Georgia, North Carolina, Ohio and Pennsylvania in the following weeks will be among the most closely watched, as well as a Republican primary for governor in Georgia, where Mr. Trump badly wants incumbent Brian Kemp defeated.In the 15 months since leaving office, the former president has endorsed 150 candidates for offices ranging from state legislatures to the Senate, according to the election data website Ballotpedia.The large number—a level of involvement in party politics not seen from a former president for at least a century—is part of an effort to remain relevant for a possible second run against President Biden in 2024, something Mr. Trump has strongly hinted he will do. He has often awarded his support to those who display loyalty to him, including agreeing with his false claims of widespread election fraud in the 2020 presidential election.“Up until now, everything about Trump has been speculation, with a little bit of polling data,” said Scott Reed, a Republican and former chief political strategist for the U.S. Chamber of Commerce. “But by the end of May, we will have hard data on him from these primaries.”Mr. Reed said he will especially be watching the Senate primaries in Ohio and Pennsylvania. “Those are the two that will be the barometer for telling Trump’s strength with the GOP electorate,” he said.Mr. Trump’s deep involvement in GOP primaries has left some establishment Republicans like Mr. Reed worried that some of his selections—if they are successful in their primaries—could prove to be flawed in the general election, when candidates must win over independent voters and the former president’s seal of approval could prove to be harmful.Polling suggests an endorsement from Mr. Trump can be somewhat helpful among GOP voters. A Quinnipiac University survey released Wednesday showed 45% of Republicans say they are more likely to vote for a Trump-endorsed candidate, while 8% say they are less likely and 44% say it doesn’t make a difference.\"\n",
        "\n",
        "pipeline.predict([newSMS])"
      ]
    },
    {
      "cell_type": "markdown",
      "id": "a769f48a",
      "metadata": {
        "id": "a769f48a"
      },
      "source": [
        "## 4. Training and Testing a Deep Neural Network"
      ]
    },
    {
      "cell_type": "markdown",
      "id": "aa7f56ef",
      "metadata": {
        "id": "aa7f56ef"
      },
      "source": [
        "### I. Import related library for using MLPClassifier from sklearn neural netowrk."
      ]
    },
    {
      "cell_type": "code",
      "execution_count": null,
      "id": "957ed7c0",
      "metadata": {
        "id": "957ed7c0"
      },
      "outputs": [],
      "source": [
        "from sklearn.neural_network import MLPClassifier\n"
      ]
    },
    {
      "cell_type": "markdown",
      "id": "ab854d5b",
      "metadata": {
        "id": "ab854d5b"
      },
      "source": [
        "### II. Create a pipeline like 3i, for MLPClassfier you should use at least two layers and also should verbose = 2 (you can use other parameters as you wish or use the one you see from the uploaded google colab)\n"
      ]
    },
    {
      "cell_type": "code",
      "execution_count": null,
      "id": "c1c60422",
      "metadata": {
        "id": "c1c60422"
      },
      "outputs": [],
      "source": [
        "\n",
        "pipeline = Pipeline([\n",
        "    ('bow', CountVectorizer(analyzer=process)),  # strings to token integer counts\n",
        "    ('tfidf', TfidfTransformer()),  # integer counts to weighted TF-IDF scores\n",
        "    ('classifier', MLPClassifier(hidden_layer_sizes=(100,4), random_state=0, early_stopping=True, verbose=2)),  # train on TF-IDF vectors w/ MLPClassifier classifier with two hidden layers\n",
        "])"
      ]
    },
    {
      "cell_type": "markdown",
      "id": "813f9ed3",
      "metadata": {
        "id": "813f9ed3"
      },
      "source": [
        "### III.Fit the pipeline and then perform prediction"
      ]
    },
    {
      "cell_type": "code",
      "execution_count": null,
      "id": "e25d92e5",
      "metadata": {
        "colab": {
          "base_uri": "https://localhost:8080/"
        },
        "id": "e25d92e5",
        "outputId": "3d5996dc-df51-4774-ffcb-3a80b1edbf97"
      },
      "outputs": [
        {
          "output_type": "stream",
          "name": "stdout",
          "text": [
            "Iteration 1, loss = 0.21525913\n",
            "Validation score: 0.996102\n",
            "Iteration 2, loss = 0.01440476\n",
            "Validation score: 0.998051\n",
            "Iteration 3, loss = 0.00454155\n",
            "Validation score: 0.998051\n",
            "Iteration 4, loss = 0.00255710\n",
            "Validation score: 0.998051\n",
            "Iteration 5, loss = 0.00179341\n",
            "Validation score: 0.998330\n",
            "Iteration 6, loss = 0.00143666\n",
            "Validation score: 0.998051\n",
            "Iteration 7, loss = 0.00122544\n",
            "Validation score: 0.998051\n",
            "Iteration 8, loss = 0.00108099\n",
            "Validation score: 0.998051\n",
            "Iteration 9, loss = 0.00097478\n",
            "Validation score: 0.998051\n",
            "Iteration 10, loss = 0.00089147\n",
            "Validation score: 0.998051\n",
            "Iteration 11, loss = 0.00082255\n",
            "Validation score: 0.998051\n",
            "Iteration 12, loss = 0.00076436\n",
            "Validation score: 0.998051\n",
            "Iteration 13, loss = 0.00071389\n",
            "Validation score: 0.998051\n",
            "Iteration 14, loss = 0.00066906\n",
            "Validation score: 0.998051\n",
            "Iteration 15, loss = 0.00062895\n",
            "Validation score: 0.998051\n",
            "Iteration 16, loss = 0.00059214\n",
            "Validation score: 0.998051\n",
            "Validation score did not improve more than tol=0.000100 for 10 consecutive epochs. Stopping.\n"
          ]
        },
        {
          "output_type": "execute_result",
          "data": {
            "text/plain": [
              "Pipeline(steps=[('bow',\n",
              "                 CountVectorizer(analyzer=<function process at 0x7ff83d306680>)),\n",
              "                ('tfidf', TfidfTransformer()),\n",
              "                ('classifier',\n",
              "                 MLPClassifier(early_stopping=True, hidden_layer_sizes=(100, 4),\n",
              "                               random_state=0, verbose=2))])"
            ]
          },
          "metadata": {},
          "execution_count": 50
        }
      ],
      "source": [
        "pipeline.fit(msg_train,label_train)"
      ]
    },
    {
      "cell_type": "code",
      "execution_count": null,
      "id": "b42b0c35",
      "metadata": {
        "id": "b42b0c35"
      },
      "outputs": [],
      "source": [
        "predictions = pipeline.predict(msg_test)  "
      ]
    },
    {
      "cell_type": "markdown",
      "id": "ad22ac80",
      "metadata": {
        "id": "ad22ac80"
      },
      "source": [
        "### IV. Generate classification report and confusion matrix (You have to achieve at least 99% accuracy to receive full credit for this model)\n"
      ]
    },
    {
      "cell_type": "code",
      "execution_count": null,
      "id": "28124ecb",
      "metadata": {
        "colab": {
          "base_uri": "https://localhost:8080/"
        },
        "id": "28124ecb",
        "outputId": "15da41b5-b135-44af-d4e6-31201ea5023c"
      },
      "outputs": [
        {
          "output_type": "stream",
          "name": "stdout",
          "text": [
            "[[4718   14]\n",
            " [   5 4243]]\n"
          ]
        }
      ],
      "source": [
        "print(confusion_matrix(label_test, predictions))"
      ]
    },
    {
      "cell_type": "code",
      "execution_count": null,
      "id": "bfd4ea09",
      "metadata": {
        "colab": {
          "base_uri": "https://localhost:8080/"
        },
        "id": "bfd4ea09",
        "outputId": "bbb98215-a727-4656-8665-f1f42685b874"
      },
      "outputs": [
        {
          "output_type": "execute_result",
          "data": {
            "text/plain": [
              "(4718, 14, 5, 4243)"
            ]
          },
          "metadata": {},
          "execution_count": 53
        }
      ],
      "source": [
        "tn, fp, fn, tp = confusion_matrix(label_test, predictions).ravel()\n",
        "tn, fp, fn, tp"
      ]
    },
    {
      "cell_type": "code",
      "execution_count": null,
      "id": "9cf1a763",
      "metadata": {
        "colab": {
          "base_uri": "https://localhost:8080/"
        },
        "id": "9cf1a763",
        "outputId": "df2371ff-121a-41c4-ab66-85e43f18c575"
      },
      "outputs": [
        {
          "output_type": "stream",
          "name": "stdout",
          "text": [
            "              precision    recall  f1-score   support\n",
            "\n",
            "           0       1.00      1.00      1.00      4732\n",
            "           1       1.00      1.00      1.00      4248\n",
            "\n",
            "    accuracy                           1.00      8980\n",
            "   macro avg       1.00      1.00      1.00      8980\n",
            "weighted avg       1.00      1.00      1.00      8980\n",
            "\n"
          ]
        }
      ],
      "source": [
        "print(classification_report(label_test, predictions))   \n",
        "\n"
      ]
    },
    {
      "cell_type": "markdown",
      "id": "b6f1976c",
      "metadata": {
        "id": "b6f1976c"
      },
      "source": [
        "### V. Discuss the performance like how good the model is overall, how good is it in predicting fake news, and how good is it in predicting true news."
      ]
    },
    {
      "cell_type": "markdown",
      "id": "c6b342b1",
      "metadata": {
        "id": "c6b342b1"
      },
      "source": [
        "#### model is performing at over 99% accuracy.  Looking at precision and recall and f1 score all all are 99% number of false negatives and false positives are minimalwhich among 8900+ data is neglagible.\n"
      ]
    },
    {
      "cell_type": "markdown",
      "id": "b249917c",
      "metadata": {
        "id": "b249917c"
      },
      "source": [
        "### VI. Use the same news you have used above and then use the model to predict whether is it true or not. "
      ]
    },
    {
      "cell_type": "code",
      "execution_count": null,
      "id": "fcb76be6",
      "metadata": {
        "colab": {
          "base_uri": "https://localhost:8080/"
        },
        "id": "fcb76be6",
        "outputId": "0e4ce8b5-ede7-4bd2-8753-386308b40531"
      },
      "outputs": [
        {
          "output_type": "execute_result",
          "data": {
            "text/plain": [
              "array([1])"
            ]
          },
          "metadata": {},
          "execution_count": 55
        }
      ],
      "source": [
        "newSMS = \"A series of May primaries represent the biggest test yet of Donald Trump’s post-presidential influence on the Republican electorate, with the outcomes carrying implications for his potential third White House campaign and control of Congress.The fate of several of Mr. Trump’s highest-profile endorsements will be determined during a month that features a dozen primaries from coast to coast. GOP contests for U.S. Senate in Ohio on Tuesday and the battleground states of Georgia, North Carolina, Ohio and Pennsylvania in the following weeks will be among the most closely watched, as well as a Republican primary for governor in Georgia, where Mr. Trump badly wants incumbent Brian Kemp defeated.In the 15 months since leaving office, the former president has endorsed 150 candidates for offices ranging from state legislatures to the Senate, according to the election data website Ballotpedia.The large number—a level of involvement in party politics not seen from a former president for at least a century—is part of an effort to remain relevant for a possible second run against President Biden in 2024, something Mr. Trump has strongly hinted he will do. He has often awarded his support to those who display loyalty to him, including agreeing with his false claims of widespread election fraud in the 2020 presidential election.“Up until now, everything about Trump has been speculation, with a little bit of polling data,” said Scott Reed, a Republican and former chief political strategist for the U.S. Chamber of Commerce. “But by the end of May, we will have hard data on him from these primaries.”Mr. Reed said he will especially be watching the Senate primaries in Ohio and Pennsylvania. “Those are the two that will be the barometer for telling Trump’s strength with the GOP electorate,” he said.Mr. Trump’s deep involvement in GOP primaries has left some establishment Republicans like Mr. Reed worried that some of his selections—if they are successful in their primaries—could prove to be flawed in the general election, when candidates must win over independent voters and the former president’s seal of approval could prove to be harmful.Polling suggests an endorsement from Mr. Trump can be somewhat helpful among GOP voters. A Quinnipiac University survey released Wednesday showed 45% of Republicans say they are more likely to vote for a Trump-endorsed candidate, while 8% say they are less likely and 44% say it doesn’t make a difference.\"\n",
        "\n",
        "pipeline.predict([newSMS])"
      ]
    },
    {
      "cell_type": "markdown",
      "id": "4af9f5bd",
      "metadata": {
        "id": "4af9f5bd"
      },
      "source": [
        "### VII. Discuss any difference in performance between this model and NB model "
      ]
    },
    {
      "cell_type": "markdown",
      "id": "8fa82f76",
      "metadata": {
        "id": "8fa82f76"
      },
      "source": [
        "#### there is difference between the two model the deep neural model provides better accuracy becuase its capabale of capturing more details and hence predicting better.  It took longer to run the model which is due to more computeationally extensice of the model with deep learning\n"
      ]
    },
    {
      "cell_type": "markdown",
      "id": "12ee60d0",
      "metadata": {
        "id": "12ee60d0"
      },
      "source": [
        "## 5. Extra Credit: 15 pts"
      ]
    },
    {
      "cell_type": "markdown",
      "id": "fabd4799",
      "metadata": {
        "id": "fabd4799"
      },
      "source": [
        "### I. Build a high-performance model for classifying the news into different subjects. It means your target column will be the subject column. During this process, you have to use a neural network, properly preprocess the data frame, remove irrelevant columns, train and test the model properly and then finally show the classification report and confusion matrix. In order to get full credit, it should be at least 79% accurate in predicting the subject of news. Finally, you should discuss the classification report like what are the weaknesses of the model and what are the strengths of the model. \n",
        " "
      ]
    },
    {
      "cell_type": "code",
      "execution_count": null,
      "id": "57305135",
      "metadata": {
        "id": "57305135"
      },
      "outputs": [],
      "source": [
        "cols = ['title','text']\n",
        "dfCopy['AllText'] = dfCopy[cols].apply(lambda row: '_'.join(row.values.astype(str)), axis=1)"
      ]
    },
    {
      "cell_type": "code",
      "source": [
        "dfCopy.head(5)"
      ],
      "metadata": {
        "colab": {
          "base_uri": "https://localhost:8080/",
          "height": 206
        },
        "id": "-O7jjXxJ3lQ0",
        "outputId": "139265a7-7474-4710-ca62-5ab3cb152e5c"
      },
      "id": "-O7jjXxJ3lQ0",
      "execution_count": null,
      "outputs": [
        {
          "output_type": "execute_result",
          "data": {
            "text/plain": [
              "                                               title  \\\n",
              "0  As U.S. budget fight looms, Republicans flip t...   \n",
              "1  U.S. military to accept transgender recruits o...   \n",
              "2  Senior U.S. Republican senator: 'Let Mr. Muell...   \n",
              "3  FBI Russia probe helped by Australian diplomat...   \n",
              "4  Trump wants Postal Service to charge 'much mor...   \n",
              "\n",
              "                                                text       subject  \\\n",
              "0  WASHINGTON (Reuters) - The head of a conservat...  politicsNews   \n",
              "1  WASHINGTON (Reuters) - Transgender people will...  politicsNews   \n",
              "2  WASHINGTON (Reuters) - The special counsel inv...  politicsNews   \n",
              "3  WASHINGTON (Reuters) - Trump campaign adviser ...  politicsNews   \n",
              "4  SEATTLE/WASHINGTON (Reuters) - President Donal...  politicsNews   \n",
              "\n",
              "                 date  target  \\\n",
              "0  December 31, 2017        1   \n",
              "1  December 29, 2017        1   \n",
              "2  December 31, 2017        1   \n",
              "3  December 30, 2017        1   \n",
              "4  December 29, 2017        1   \n",
              "\n",
              "                                             AllText  \n",
              "0  As U.S. budget fight looms, Republicans flip t...  \n",
              "1  U.S. military to accept transgender recruits o...  \n",
              "2  Senior U.S. Republican senator: 'Let Mr. Muell...  \n",
              "3  FBI Russia probe helped by Australian diplomat...  \n",
              "4  Trump wants Postal Service to charge 'much mor...  "
            ],
            "text/html": [
              "\n",
              "  <div id=\"df-f12323fe-0764-4615-9465-e3aa420ff07d\">\n",
              "    <div class=\"colab-df-container\">\n",
              "      <div>\n",
              "<style scoped>\n",
              "    .dataframe tbody tr th:only-of-type {\n",
              "        vertical-align: middle;\n",
              "    }\n",
              "\n",
              "    .dataframe tbody tr th {\n",
              "        vertical-align: top;\n",
              "    }\n",
              "\n",
              "    .dataframe thead th {\n",
              "        text-align: right;\n",
              "    }\n",
              "</style>\n",
              "<table border=\"1\" class=\"dataframe\">\n",
              "  <thead>\n",
              "    <tr style=\"text-align: right;\">\n",
              "      <th></th>\n",
              "      <th>title</th>\n",
              "      <th>text</th>\n",
              "      <th>subject</th>\n",
              "      <th>date</th>\n",
              "      <th>target</th>\n",
              "      <th>AllText</th>\n",
              "    </tr>\n",
              "  </thead>\n",
              "  <tbody>\n",
              "    <tr>\n",
              "      <th>0</th>\n",
              "      <td>As U.S. budget fight looms, Republicans flip t...</td>\n",
              "      <td>WASHINGTON (Reuters) - The head of a conservat...</td>\n",
              "      <td>politicsNews</td>\n",
              "      <td>December 31, 2017</td>\n",
              "      <td>1</td>\n",
              "      <td>As U.S. budget fight looms, Republicans flip t...</td>\n",
              "    </tr>\n",
              "    <tr>\n",
              "      <th>1</th>\n",
              "      <td>U.S. military to accept transgender recruits o...</td>\n",
              "      <td>WASHINGTON (Reuters) - Transgender people will...</td>\n",
              "      <td>politicsNews</td>\n",
              "      <td>December 29, 2017</td>\n",
              "      <td>1</td>\n",
              "      <td>U.S. military to accept transgender recruits o...</td>\n",
              "    </tr>\n",
              "    <tr>\n",
              "      <th>2</th>\n",
              "      <td>Senior U.S. Republican senator: 'Let Mr. Muell...</td>\n",
              "      <td>WASHINGTON (Reuters) - The special counsel inv...</td>\n",
              "      <td>politicsNews</td>\n",
              "      <td>December 31, 2017</td>\n",
              "      <td>1</td>\n",
              "      <td>Senior U.S. Republican senator: 'Let Mr. Muell...</td>\n",
              "    </tr>\n",
              "    <tr>\n",
              "      <th>3</th>\n",
              "      <td>FBI Russia probe helped by Australian diplomat...</td>\n",
              "      <td>WASHINGTON (Reuters) - Trump campaign adviser ...</td>\n",
              "      <td>politicsNews</td>\n",
              "      <td>December 30, 2017</td>\n",
              "      <td>1</td>\n",
              "      <td>FBI Russia probe helped by Australian diplomat...</td>\n",
              "    </tr>\n",
              "    <tr>\n",
              "      <th>4</th>\n",
              "      <td>Trump wants Postal Service to charge 'much mor...</td>\n",
              "      <td>SEATTLE/WASHINGTON (Reuters) - President Donal...</td>\n",
              "      <td>politicsNews</td>\n",
              "      <td>December 29, 2017</td>\n",
              "      <td>1</td>\n",
              "      <td>Trump wants Postal Service to charge 'much mor...</td>\n",
              "    </tr>\n",
              "  </tbody>\n",
              "</table>\n",
              "</div>\n",
              "      <button class=\"colab-df-convert\" onclick=\"convertToInteractive('df-f12323fe-0764-4615-9465-e3aa420ff07d')\"\n",
              "              title=\"Convert this dataframe to an interactive table.\"\n",
              "              style=\"display:none;\">\n",
              "        \n",
              "  <svg xmlns=\"http://www.w3.org/2000/svg\" height=\"24px\"viewBox=\"0 0 24 24\"\n",
              "       width=\"24px\">\n",
              "    <path d=\"M0 0h24v24H0V0z\" fill=\"none\"/>\n",
              "    <path d=\"M18.56 5.44l.94 2.06.94-2.06 2.06-.94-2.06-.94-.94-2.06-.94 2.06-2.06.94zm-11 1L8.5 8.5l.94-2.06 2.06-.94-2.06-.94L8.5 2.5l-.94 2.06-2.06.94zm10 10l.94 2.06.94-2.06 2.06-.94-2.06-.94-.94-2.06-.94 2.06-2.06.94z\"/><path d=\"M17.41 7.96l-1.37-1.37c-.4-.4-.92-.59-1.43-.59-.52 0-1.04.2-1.43.59L10.3 9.45l-7.72 7.72c-.78.78-.78 2.05 0 2.83L4 21.41c.39.39.9.59 1.41.59.51 0 1.02-.2 1.41-.59l7.78-7.78 2.81-2.81c.8-.78.8-2.07 0-2.86zM5.41 20L4 18.59l7.72-7.72 1.47 1.35L5.41 20z\"/>\n",
              "  </svg>\n",
              "      </button>\n",
              "      \n",
              "  <style>\n",
              "    .colab-df-container {\n",
              "      display:flex;\n",
              "      flex-wrap:wrap;\n",
              "      gap: 12px;\n",
              "    }\n",
              "\n",
              "    .colab-df-convert {\n",
              "      background-color: #E8F0FE;\n",
              "      border: none;\n",
              "      border-radius: 50%;\n",
              "      cursor: pointer;\n",
              "      display: none;\n",
              "      fill: #1967D2;\n",
              "      height: 32px;\n",
              "      padding: 0 0 0 0;\n",
              "      width: 32px;\n",
              "    }\n",
              "\n",
              "    .colab-df-convert:hover {\n",
              "      background-color: #E2EBFA;\n",
              "      box-shadow: 0px 1px 2px rgba(60, 64, 67, 0.3), 0px 1px 3px 1px rgba(60, 64, 67, 0.15);\n",
              "      fill: #174EA6;\n",
              "    }\n",
              "\n",
              "    [theme=dark] .colab-df-convert {\n",
              "      background-color: #3B4455;\n",
              "      fill: #D2E3FC;\n",
              "    }\n",
              "\n",
              "    [theme=dark] .colab-df-convert:hover {\n",
              "      background-color: #434B5C;\n",
              "      box-shadow: 0px 1px 3px 1px rgba(0, 0, 0, 0.15);\n",
              "      filter: drop-shadow(0px 1px 2px rgba(0, 0, 0, 0.3));\n",
              "      fill: #FFFFFF;\n",
              "    }\n",
              "  </style>\n",
              "\n",
              "      <script>\n",
              "        const buttonEl =\n",
              "          document.querySelector('#df-f12323fe-0764-4615-9465-e3aa420ff07d button.colab-df-convert');\n",
              "        buttonEl.style.display =\n",
              "          google.colab.kernel.accessAllowed ? 'block' : 'none';\n",
              "\n",
              "        async function convertToInteractive(key) {\n",
              "          const element = document.querySelector('#df-f12323fe-0764-4615-9465-e3aa420ff07d');\n",
              "          const dataTable =\n",
              "            await google.colab.kernel.invokeFunction('convertToInteractive',\n",
              "                                                     [key], {});\n",
              "          if (!dataTable) return;\n",
              "\n",
              "          const docLinkHtml = 'Like what you see? Visit the ' +\n",
              "            '<a target=\"_blank\" href=https://colab.research.google.com/notebooks/data_table.ipynb>data table notebook</a>'\n",
              "            + ' to learn more about interactive tables.';\n",
              "          element.innerHTML = '';\n",
              "          dataTable['output_type'] = 'display_data';\n",
              "          await google.colab.output.renderOutput(dataTable, element);\n",
              "          const docLink = document.createElement('div');\n",
              "          docLink.innerHTML = docLinkHtml;\n",
              "          element.appendChild(docLink);\n",
              "        }\n",
              "      </script>\n",
              "    </div>\n",
              "  </div>\n",
              "  "
            ]
          },
          "metadata": {},
          "execution_count": 60
        }
      ]
    },
    {
      "cell_type": "code",
      "execution_count": null,
      "id": "2a567989",
      "metadata": {
        "colab": {
          "base_uri": "https://localhost:8080/",
          "height": 363
        },
        "id": "2a567989",
        "outputId": "8ff4d399-9342-4ec4-e886-8e1060976625"
      },
      "outputs": [
        {
          "output_type": "execute_result",
          "data": {
            "text/plain": [
              "        subject                                            AllText\n",
              "0  politicsNews  As U.S. budget fight looms, Republicans flip t...\n",
              "1  politicsNews  U.S. military to accept transgender recruits o...\n",
              "2  politicsNews  Senior U.S. Republican senator: 'Let Mr. Muell...\n",
              "3  politicsNews  FBI Russia probe helped by Australian diplomat...\n",
              "4  politicsNews  Trump wants Postal Service to charge 'much mor...\n",
              "5  politicsNews  White House, Congress prepare for talks on spe...\n",
              "6  politicsNews  Trump says Russia probe will be fair, but time...\n",
              "7  politicsNews  Factbox: Trump on Twitter (Dec 29) - Approval ...\n",
              "8  politicsNews  Trump on Twitter (Dec 28) - Global Warming_The...\n",
              "9  politicsNews  Alabama official to certify Senator-elect Jone..."
            ],
            "text/html": [
              "\n",
              "  <div id=\"df-96f522bc-41eb-495f-a81c-959d3363ce50\">\n",
              "    <div class=\"colab-df-container\">\n",
              "      <div>\n",
              "<style scoped>\n",
              "    .dataframe tbody tr th:only-of-type {\n",
              "        vertical-align: middle;\n",
              "    }\n",
              "\n",
              "    .dataframe tbody tr th {\n",
              "        vertical-align: top;\n",
              "    }\n",
              "\n",
              "    .dataframe thead th {\n",
              "        text-align: right;\n",
              "    }\n",
              "</style>\n",
              "<table border=\"1\" class=\"dataframe\">\n",
              "  <thead>\n",
              "    <tr style=\"text-align: right;\">\n",
              "      <th></th>\n",
              "      <th>subject</th>\n",
              "      <th>AllText</th>\n",
              "    </tr>\n",
              "  </thead>\n",
              "  <tbody>\n",
              "    <tr>\n",
              "      <th>0</th>\n",
              "      <td>politicsNews</td>\n",
              "      <td>As U.S. budget fight looms, Republicans flip t...</td>\n",
              "    </tr>\n",
              "    <tr>\n",
              "      <th>1</th>\n",
              "      <td>politicsNews</td>\n",
              "      <td>U.S. military to accept transgender recruits o...</td>\n",
              "    </tr>\n",
              "    <tr>\n",
              "      <th>2</th>\n",
              "      <td>politicsNews</td>\n",
              "      <td>Senior U.S. Republican senator: 'Let Mr. Muell...</td>\n",
              "    </tr>\n",
              "    <tr>\n",
              "      <th>3</th>\n",
              "      <td>politicsNews</td>\n",
              "      <td>FBI Russia probe helped by Australian diplomat...</td>\n",
              "    </tr>\n",
              "    <tr>\n",
              "      <th>4</th>\n",
              "      <td>politicsNews</td>\n",
              "      <td>Trump wants Postal Service to charge 'much mor...</td>\n",
              "    </tr>\n",
              "    <tr>\n",
              "      <th>5</th>\n",
              "      <td>politicsNews</td>\n",
              "      <td>White House, Congress prepare for talks on spe...</td>\n",
              "    </tr>\n",
              "    <tr>\n",
              "      <th>6</th>\n",
              "      <td>politicsNews</td>\n",
              "      <td>Trump says Russia probe will be fair, but time...</td>\n",
              "    </tr>\n",
              "    <tr>\n",
              "      <th>7</th>\n",
              "      <td>politicsNews</td>\n",
              "      <td>Factbox: Trump on Twitter (Dec 29) - Approval ...</td>\n",
              "    </tr>\n",
              "    <tr>\n",
              "      <th>8</th>\n",
              "      <td>politicsNews</td>\n",
              "      <td>Trump on Twitter (Dec 28) - Global Warming_The...</td>\n",
              "    </tr>\n",
              "    <tr>\n",
              "      <th>9</th>\n",
              "      <td>politicsNews</td>\n",
              "      <td>Alabama official to certify Senator-elect Jone...</td>\n",
              "    </tr>\n",
              "  </tbody>\n",
              "</table>\n",
              "</div>\n",
              "      <button class=\"colab-df-convert\" onclick=\"convertToInteractive('df-96f522bc-41eb-495f-a81c-959d3363ce50')\"\n",
              "              title=\"Convert this dataframe to an interactive table.\"\n",
              "              style=\"display:none;\">\n",
              "        \n",
              "  <svg xmlns=\"http://www.w3.org/2000/svg\" height=\"24px\"viewBox=\"0 0 24 24\"\n",
              "       width=\"24px\">\n",
              "    <path d=\"M0 0h24v24H0V0z\" fill=\"none\"/>\n",
              "    <path d=\"M18.56 5.44l.94 2.06.94-2.06 2.06-.94-2.06-.94-.94-2.06-.94 2.06-2.06.94zm-11 1L8.5 8.5l.94-2.06 2.06-.94-2.06-.94L8.5 2.5l-.94 2.06-2.06.94zm10 10l.94 2.06.94-2.06 2.06-.94-2.06-.94-.94-2.06-.94 2.06-2.06.94z\"/><path d=\"M17.41 7.96l-1.37-1.37c-.4-.4-.92-.59-1.43-.59-.52 0-1.04.2-1.43.59L10.3 9.45l-7.72 7.72c-.78.78-.78 2.05 0 2.83L4 21.41c.39.39.9.59 1.41.59.51 0 1.02-.2 1.41-.59l7.78-7.78 2.81-2.81c.8-.78.8-2.07 0-2.86zM5.41 20L4 18.59l7.72-7.72 1.47 1.35L5.41 20z\"/>\n",
              "  </svg>\n",
              "      </button>\n",
              "      \n",
              "  <style>\n",
              "    .colab-df-container {\n",
              "      display:flex;\n",
              "      flex-wrap:wrap;\n",
              "      gap: 12px;\n",
              "    }\n",
              "\n",
              "    .colab-df-convert {\n",
              "      background-color: #E8F0FE;\n",
              "      border: none;\n",
              "      border-radius: 50%;\n",
              "      cursor: pointer;\n",
              "      display: none;\n",
              "      fill: #1967D2;\n",
              "      height: 32px;\n",
              "      padding: 0 0 0 0;\n",
              "      width: 32px;\n",
              "    }\n",
              "\n",
              "    .colab-df-convert:hover {\n",
              "      background-color: #E2EBFA;\n",
              "      box-shadow: 0px 1px 2px rgba(60, 64, 67, 0.3), 0px 1px 3px 1px rgba(60, 64, 67, 0.15);\n",
              "      fill: #174EA6;\n",
              "    }\n",
              "\n",
              "    [theme=dark] .colab-df-convert {\n",
              "      background-color: #3B4455;\n",
              "      fill: #D2E3FC;\n",
              "    }\n",
              "\n",
              "    [theme=dark] .colab-df-convert:hover {\n",
              "      background-color: #434B5C;\n",
              "      box-shadow: 0px 1px 3px 1px rgba(0, 0, 0, 0.15);\n",
              "      filter: drop-shadow(0px 1px 2px rgba(0, 0, 0, 0.3));\n",
              "      fill: #FFFFFF;\n",
              "    }\n",
              "  </style>\n",
              "\n",
              "      <script>\n",
              "        const buttonEl =\n",
              "          document.querySelector('#df-96f522bc-41eb-495f-a81c-959d3363ce50 button.colab-df-convert');\n",
              "        buttonEl.style.display =\n",
              "          google.colab.kernel.accessAllowed ? 'block' : 'none';\n",
              "\n",
              "        async function convertToInteractive(key) {\n",
              "          const element = document.querySelector('#df-96f522bc-41eb-495f-a81c-959d3363ce50');\n",
              "          const dataTable =\n",
              "            await google.colab.kernel.invokeFunction('convertToInteractive',\n",
              "                                                     [key], {});\n",
              "          if (!dataTable) return;\n",
              "\n",
              "          const docLinkHtml = 'Like what you see? Visit the ' +\n",
              "            '<a target=\"_blank\" href=https://colab.research.google.com/notebooks/data_table.ipynb>data table notebook</a>'\n",
              "            + ' to learn more about interactive tables.';\n",
              "          element.innerHTML = '';\n",
              "          dataTable['output_type'] = 'display_data';\n",
              "          await google.colab.output.renderOutput(dataTable, element);\n",
              "          const docLink = document.createElement('div');\n",
              "          docLink.innerHTML = docLinkHtml;\n",
              "          element.appendChild(docLink);\n",
              "        }\n",
              "      </script>\n",
              "    </div>\n",
              "  </div>\n",
              "  "
            ]
          },
          "metadata": {},
          "execution_count": 61
        }
      ],
      "source": [
        "dfCopy = dfCopy.drop(columns=['title','text', 'date', 'target'])\n",
        "dfCopy.head(10)"
      ]
    },
    {
      "cell_type": "code",
      "execution_count": null,
      "id": "5d3a6aca",
      "metadata": {
        "colab": {
          "base_uri": "https://localhost:8080/",
          "height": 206
        },
        "id": "5d3a6aca",
        "outputId": "c8808f74-ed2e-4636-de51-ef704bf7fe20"
      },
      "outputs": [
        {
          "output_type": "execute_result",
          "data": {
            "text/plain": [
              "        subject                                            AllText  length\n",
              "0  politicsNews  As U.S. budget fight looms, Republicans flip t...    4724\n",
              "1  politicsNews  U.S. military to accept transgender recruits o...    4142\n",
              "2  politicsNews  Senior U.S. Republican senator: 'Let Mr. Muell...    2850\n",
              "3  politicsNews  FBI Russia probe helped by Australian diplomat...    2521\n",
              "4  politicsNews  Trump wants Postal Service to charge 'much mor...    5274"
            ],
            "text/html": [
              "\n",
              "  <div id=\"df-6490c6ee-88a0-40a7-8489-e16240de6624\">\n",
              "    <div class=\"colab-df-container\">\n",
              "      <div>\n",
              "<style scoped>\n",
              "    .dataframe tbody tr th:only-of-type {\n",
              "        vertical-align: middle;\n",
              "    }\n",
              "\n",
              "    .dataframe tbody tr th {\n",
              "        vertical-align: top;\n",
              "    }\n",
              "\n",
              "    .dataframe thead th {\n",
              "        text-align: right;\n",
              "    }\n",
              "</style>\n",
              "<table border=\"1\" class=\"dataframe\">\n",
              "  <thead>\n",
              "    <tr style=\"text-align: right;\">\n",
              "      <th></th>\n",
              "      <th>subject</th>\n",
              "      <th>AllText</th>\n",
              "      <th>length</th>\n",
              "    </tr>\n",
              "  </thead>\n",
              "  <tbody>\n",
              "    <tr>\n",
              "      <th>0</th>\n",
              "      <td>politicsNews</td>\n",
              "      <td>As U.S. budget fight looms, Republicans flip t...</td>\n",
              "      <td>4724</td>\n",
              "    </tr>\n",
              "    <tr>\n",
              "      <th>1</th>\n",
              "      <td>politicsNews</td>\n",
              "      <td>U.S. military to accept transgender recruits o...</td>\n",
              "      <td>4142</td>\n",
              "    </tr>\n",
              "    <tr>\n",
              "      <th>2</th>\n",
              "      <td>politicsNews</td>\n",
              "      <td>Senior U.S. Republican senator: 'Let Mr. Muell...</td>\n",
              "      <td>2850</td>\n",
              "    </tr>\n",
              "    <tr>\n",
              "      <th>3</th>\n",
              "      <td>politicsNews</td>\n",
              "      <td>FBI Russia probe helped by Australian diplomat...</td>\n",
              "      <td>2521</td>\n",
              "    </tr>\n",
              "    <tr>\n",
              "      <th>4</th>\n",
              "      <td>politicsNews</td>\n",
              "      <td>Trump wants Postal Service to charge 'much mor...</td>\n",
              "      <td>5274</td>\n",
              "    </tr>\n",
              "  </tbody>\n",
              "</table>\n",
              "</div>\n",
              "      <button class=\"colab-df-convert\" onclick=\"convertToInteractive('df-6490c6ee-88a0-40a7-8489-e16240de6624')\"\n",
              "              title=\"Convert this dataframe to an interactive table.\"\n",
              "              style=\"display:none;\">\n",
              "        \n",
              "  <svg xmlns=\"http://www.w3.org/2000/svg\" height=\"24px\"viewBox=\"0 0 24 24\"\n",
              "       width=\"24px\">\n",
              "    <path d=\"M0 0h24v24H0V0z\" fill=\"none\"/>\n",
              "    <path d=\"M18.56 5.44l.94 2.06.94-2.06 2.06-.94-2.06-.94-.94-2.06-.94 2.06-2.06.94zm-11 1L8.5 8.5l.94-2.06 2.06-.94-2.06-.94L8.5 2.5l-.94 2.06-2.06.94zm10 10l.94 2.06.94-2.06 2.06-.94-2.06-.94-.94-2.06-.94 2.06-2.06.94z\"/><path d=\"M17.41 7.96l-1.37-1.37c-.4-.4-.92-.59-1.43-.59-.52 0-1.04.2-1.43.59L10.3 9.45l-7.72 7.72c-.78.78-.78 2.05 0 2.83L4 21.41c.39.39.9.59 1.41.59.51 0 1.02-.2 1.41-.59l7.78-7.78 2.81-2.81c.8-.78.8-2.07 0-2.86zM5.41 20L4 18.59l7.72-7.72 1.47 1.35L5.41 20z\"/>\n",
              "  </svg>\n",
              "      </button>\n",
              "      \n",
              "  <style>\n",
              "    .colab-df-container {\n",
              "      display:flex;\n",
              "      flex-wrap:wrap;\n",
              "      gap: 12px;\n",
              "    }\n",
              "\n",
              "    .colab-df-convert {\n",
              "      background-color: #E8F0FE;\n",
              "      border: none;\n",
              "      border-radius: 50%;\n",
              "      cursor: pointer;\n",
              "      display: none;\n",
              "      fill: #1967D2;\n",
              "      height: 32px;\n",
              "      padding: 0 0 0 0;\n",
              "      width: 32px;\n",
              "    }\n",
              "\n",
              "    .colab-df-convert:hover {\n",
              "      background-color: #E2EBFA;\n",
              "      box-shadow: 0px 1px 2px rgba(60, 64, 67, 0.3), 0px 1px 3px 1px rgba(60, 64, 67, 0.15);\n",
              "      fill: #174EA6;\n",
              "    }\n",
              "\n",
              "    [theme=dark] .colab-df-convert {\n",
              "      background-color: #3B4455;\n",
              "      fill: #D2E3FC;\n",
              "    }\n",
              "\n",
              "    [theme=dark] .colab-df-convert:hover {\n",
              "      background-color: #434B5C;\n",
              "      box-shadow: 0px 1px 3px 1px rgba(0, 0, 0, 0.15);\n",
              "      filter: drop-shadow(0px 1px 2px rgba(0, 0, 0, 0.3));\n",
              "      fill: #FFFFFF;\n",
              "    }\n",
              "  </style>\n",
              "\n",
              "      <script>\n",
              "        const buttonEl =\n",
              "          document.querySelector('#df-6490c6ee-88a0-40a7-8489-e16240de6624 button.colab-df-convert');\n",
              "        buttonEl.style.display =\n",
              "          google.colab.kernel.accessAllowed ? 'block' : 'none';\n",
              "\n",
              "        async function convertToInteractive(key) {\n",
              "          const element = document.querySelector('#df-6490c6ee-88a0-40a7-8489-e16240de6624');\n",
              "          const dataTable =\n",
              "            await google.colab.kernel.invokeFunction('convertToInteractive',\n",
              "                                                     [key], {});\n",
              "          if (!dataTable) return;\n",
              "\n",
              "          const docLinkHtml = 'Like what you see? Visit the ' +\n",
              "            '<a target=\"_blank\" href=https://colab.research.google.com/notebooks/data_table.ipynb>data table notebook</a>'\n",
              "            + ' to learn more about interactive tables.';\n",
              "          element.innerHTML = '';\n",
              "          dataTable['output_type'] = 'display_data';\n",
              "          await google.colab.output.renderOutput(dataTable, element);\n",
              "          const docLink = document.createElement('div');\n",
              "          docLink.innerHTML = docLinkHtml;\n",
              "          element.appendChild(docLink);\n",
              "        }\n",
              "      </script>\n",
              "    </div>\n",
              "  </div>\n",
              "  "
            ]
          },
          "metadata": {},
          "execution_count": 62
        }
      ],
      "source": [
        "dfCopy['length'] = dfCopy['AllText'].apply(len)\n",
        "dfCopy.head()\n",
        "\n"
      ]
    },
    {
      "cell_type": "code",
      "execution_count": null,
      "id": "b6a0727c",
      "metadata": {
        "colab": {
          "base_uri": "https://localhost:8080/"
        },
        "id": "b6a0727c",
        "outputId": "8b2cb40a-91d1-443d-9a8b-d7afade5dbf5"
      },
      "outputs": [
        {
          "output_type": "stream",
          "name": "stdout",
          "text": [
            "35918 8980 44898\n"
          ]
        }
      ],
      "source": [
        "X = data.drop(columns=['target'])\n",
        "msg_train, msg_test, label_train, label_test =  train_test_split(dfCopy['AllText'], dfCopy['subject'], test_size=0.2)\n",
        "\n",
        "print(len(msg_train), len(msg_test), len(msg_train) + len(msg_test))\n"
      ]
    },
    {
      "cell_type": "code",
      "execution_count": null,
      "id": "56aa3a96",
      "metadata": {
        "colab": {
          "base_uri": "https://localhost:8080/"
        },
        "id": "56aa3a96",
        "outputId": "6969ed99-c89d-41f6-aebc-aff46733c529"
      },
      "outputs": [
        {
          "output_type": "execute_result",
          "data": {
            "text/plain": [
              "5095     politicsNews\n",
              "29748            News\n",
              "374      politicsNews\n",
              "26652            News\n",
              "31080        politics\n",
              "5282     politicsNews\n",
              "6865     politicsNews\n",
              "3556     politicsNews\n",
              "1530     politicsNews\n",
              "6264     politicsNews\n",
              "Name: subject, dtype: object"
            ]
          },
          "metadata": {},
          "execution_count": 64
        }
      ],
      "source": [
        "label_train.head(10)"
      ]
    },
    {
      "cell_type": "code",
      "execution_count": null,
      "id": "b971920b",
      "metadata": {
        "colab": {
          "base_uri": "https://localhost:8080/"
        },
        "id": "b971920b",
        "outputId": "1410d8ba-0b22-4e1c-aef0-c3ba8f7a9d47"
      },
      "outputs": [
        {
          "output_type": "stream",
          "name": "stdout",
          "text": [
            "216290\n"
          ]
        }
      ],
      "source": [
        "transformer = CountVectorizer(analyzer=process).fit(dfCopy['AllText']) \n",
        "print(len(transformer.vocabulary_))\n"
      ]
    },
    {
      "cell_type": "code",
      "execution_count": null,
      "id": "6678cc03",
      "metadata": {
        "colab": {
          "base_uri": "https://localhost:8080/"
        },
        "id": "6678cc03",
        "outputId": "0926a041-87cb-4f68-e646-ab1396930a07"
      },
      "outputs": [
        {
          "output_type": "execute_result",
          "data": {
            "text/plain": [
              "<44898x216290 sparse matrix of type '<class 'numpy.int64'>'\n",
              "\twith 7688526 stored elements in Compressed Sparse Row format>"
            ]
          },
          "metadata": {},
          "execution_count": 66
        }
      ],
      "source": [
        "data2 = transformer.transform(dfCopy['AllText'])\n",
        "data2"
      ]
    },
    {
      "cell_type": "code",
      "execution_count": null,
      "id": "6ed26c63",
      "metadata": {
        "colab": {
          "base_uri": "https://localhost:8080/"
        },
        "id": "6ed26c63",
        "outputId": "7b7453a6-4657-407b-8c83-9704c3f7a8f2"
      },
      "outputs": [
        {
          "output_type": "stream",
          "name": "stdout",
          "text": [
            "Senior U.S. Republican senator: 'Let Mr. Mueller do his job'_WASHINGTON (Reuters) - The special counsel investigation of links between Russia and President Trump’s 2016 election campaign should continue without interference in 2018, despite calls from some Trump administration allies and Republican lawmakers to shut it down, a prominent Republican senator said on Sunday. Lindsey Graham, who serves on the Senate armed forces and judiciary committees, said Department of Justice Special Counsel Robert Mueller needs to carry on with his Russia investigation without political interference. “This investigation will go forward. It will be an investigation conducted without political influence,” Graham said on CBS’s Face the Nation news program. “And we all need to let Mr. Mueller do his job. I think he’s the right guy at the right time.”  The question of how Russia may have interfered in the election, and how Trump’s campaign may have had links with or co-ordinated any such effort, has loomed over the White House since Trump took office in January. It shows no sign of receding as Trump prepares for his second year in power, despite intensified rhetoric from some Trump allies in recent weeks accusing Mueller’s team of bias against the Republican president. Trump himself seemed to undercut his supporters in an interview last week with the New York Times in which he said he expected Mueller was “going to be fair.”    Russia’s role in the election and the question of possible links to the Trump campaign are the focus of multiple inquiries in Washington. Three committees of the Senate and the House of Representatives are investigating, as well as Mueller, whose team in May took over an earlier probe launched by the U.S. Federal Bureau of Investigation (FBI). Several members of the Trump campaign and administration have been convicted or indicted in the investigation.  Trump and his allies deny any collusion with Russia during the campaign, and the Kremlin has denied meddling in the election. Graham said he still wants an examination of the FBI’s use of a dossier on links between Trump and Russia that was compiled by a former British spy, Christopher Steele, which prompted Trump allies and some Republicans to question Mueller’s inquiry.   On Saturday, the New York Times reported that it was not that dossier that triggered an early FBI probe, but a tip from former Trump campaign foreign policy adviser George Papadopoulos to an Australian diplomat that Russia had damaging information about former Trump rival Hillary Clinton.  “I want somebody to look at the way the Department of Justice used this dossier. It bothers me greatly the way they used it, and I want somebody to look at it,” Graham said. But he said the Russia investigation must continue. “As a matter of fact, it would hurt us if we ignored it,” he said. \n"
          ]
        }
      ],
      "source": [
        "message3 = dfCopy['AllText'][2]\n",
        "print(message3)"
      ]
    },
    {
      "cell_type": "code",
      "execution_count": null,
      "id": "84c4fbcc",
      "metadata": {
        "colab": {
          "base_uri": "https://localhost:8080/"
        },
        "id": "84c4fbcc",
        "outputId": "34adb0dd-8e29-45f5-a6f7-5f562ec4e045"
      },
      "outputs": [
        {
          "output_type": "stream",
          "name": "stdout",
          "text": [
            "  (0, 741)\t1\n",
            "  (0, 1492)\t2\n",
            "  (0, 1493)\t2\n",
            "  (0, 1824)\t19\n",
            "  (0, 1838)\t1\n",
            "  (0, 2233)\t17\n",
            "  (0, 12050)\t1\n",
            "  (0, 14467)\t1\n",
            "  (0, 21923)\t1\n",
            "  (0, 24846)\t1\n",
            "  (0, 25808)\t2\n",
            "  (0, 26067)\t1\n",
            "  (0, 27987)\t4\n",
            "  (0, 31002)\t1\n",
            "  (0, 33743)\t1\n",
            "  (0, 34216)\t1\n",
            "  (0, 35721)\t1\n",
            "  (0, 40611)\t1\n",
            "  (0, 43511)\t1\n",
            "  (0, 44651)\t1\n",
            "  (0, 45720)\t1\n",
            "  (0, 46166)\t1\n",
            "  (0, 46775)\t1\n",
            "  (0, 47199)\t6\n",
            "  (0, 48679)\t1\n",
            "  :\t:\n",
            "  (0, 192440)\t1\n",
            "  (0, 193119)\t1\n",
            "  (0, 193751)\t2\n",
            "  (0, 193793)\t1\n",
            "  (0, 194288)\t1\n",
            "  (0, 195403)\t2\n",
            "  (0, 196882)\t1\n",
            "  (0, 197316)\t14\n",
            "  (0, 200081)\t2\n",
            "  (0, 201270)\t1\n",
            "  (0, 202914)\t4\n",
            "  (0, 207239)\t3\n",
            "  (0, 207794)\t1\n",
            "  (0, 208197)\t2\n",
            "  (0, 208856)\t2\n",
            "  (0, 209246)\t1\n",
            "  (0, 210151)\t1\n",
            "  (0, 210373)\t1\n",
            "  (0, 211450)\t3\n",
            "  (0, 212734)\t1\n",
            "  (0, 213876)\t1\n",
            "  (0, 214684)\t2\n",
            "  (0, 216069)\t8\n",
            "  (0, 216070)\t5\n",
            "  (0, 216071)\t5\n",
            "(1, 216290)\n"
          ]
        }
      ],
      "source": [
        "bow3 = transformer.transform([message3])\n",
        "print(bow3)\n",
        "print(bow3.shape)"
      ]
    },
    {
      "cell_type": "code",
      "execution_count": null,
      "id": "d6bb0bd9",
      "metadata": {
        "colab": {
          "base_uri": "https://localhost:8080/"
        },
        "id": "d6bb0bd9",
        "outputId": "4fe35ea4-251f-430a-c22c-66e0bd1e9435"
      },
      "outputs": [
        {
          "output_type": "stream",
          "name": "stdout",
          "text": [
            "'1484931600000\n"
          ]
        }
      ],
      "source": [
        "print(transformer.get_feature_names_out()[16])"
      ]
    },
    {
      "cell_type": "code",
      "execution_count": null,
      "id": "3f8a926b",
      "metadata": {
        "colab": {
          "base_uri": "https://localhost:8080/"
        },
        "id": "3f8a926b",
        "outputId": "d87fe419-78c4-40b7-d069-f5bcee96f887"
      },
      "outputs": [
        {
          "output_type": "stream",
          "name": "stdout",
          "text": [
            "(44898, 216290)\n"
          ]
        }
      ],
      "source": [
        "tfidf_transformer = TfidfTransformer().fit(data2)\n",
        "data_tfidf = tfidf_transformer.transform(data2)\n",
        "print(data_tfidf.shape) "
      ]
    },
    {
      "cell_type": "code",
      "execution_count": null,
      "id": "e4dc7677",
      "metadata": {
        "colab": {
          "base_uri": "https://localhost:8080/"
        },
        "id": "e4dc7677",
        "outputId": "fcc77401-1e64-4b49-d111-2d283f8383eb"
      },
      "outputs": [
        {
          "output_type": "execute_result",
          "data": {
            "text/plain": [
              "<44898x216290 sparse matrix of type '<class 'numpy.float64'>'\n",
              "\twith 7688526 stored elements in Compressed Sparse Row format>"
            ]
          },
          "metadata": {},
          "execution_count": 71
        }
      ],
      "source": [
        "data_tfidf"
      ]
    },
    {
      "cell_type": "code",
      "execution_count": null,
      "id": "148bf422",
      "metadata": {
        "colab": {
          "base_uri": "https://localhost:8080/"
        },
        "id": "148bf422",
        "outputId": "aed2861f-8d15-481e-ad1f-d699ddcaa6f7"
      },
      "outputs": [
        {
          "output_type": "stream",
          "name": "stdout",
          "text": [
            "['politicsNews' 'politicsNews' 'politicsNews' ... 'worldnews' 'News'\n",
            " 'politicsNews']\n"
          ]
        }
      ],
      "source": [
        "model = MultinomialNB().fit(data_tfidf, dfCopy['subject'])\n",
        "\n",
        "all_predictions = model.predict(data_tfidf)\n",
        "print(all_predictions)"
      ]
    },
    {
      "cell_type": "code",
      "execution_count": null,
      "id": "2a58ace1",
      "metadata": {
        "id": "2a58ace1"
      },
      "outputs": [],
      "source": [
        "pipeline = Pipeline([\n",
        "    ('bow', CountVectorizer(analyzer=process)),  # strings to token integer counts\n",
        "    ('tfidf', TfidfTransformer()),  # integer counts to weighted TF-IDF scores\n",
        "    ('classifier', MLPClassifier(hidden_layer_sizes=(100,4), random_state=0, early_stopping=True, verbose=2)),  # train on TF-IDF vectors w/ MLPClassifier classifier with two hidden layers\n",
        "])"
      ]
    },
    {
      "cell_type": "code",
      "execution_count": null,
      "id": "8d3b8a3a",
      "metadata": {
        "colab": {
          "base_uri": "https://localhost:8080/"
        },
        "id": "8d3b8a3a",
        "outputId": "d0a5620a-5ad9-499c-c1d9-d03147b8a720"
      },
      "outputs": [
        {
          "output_type": "stream",
          "name": "stdout",
          "text": [
            "Iteration 1, loss = 1.77330057\n",
            "Validation score: 0.573497\n",
            "Iteration 2, loss = 1.16074965\n",
            "Validation score: 0.599109\n",
            "Iteration 3, loss = 1.00876019\n",
            "Validation score: 0.603842\n",
            "Iteration 4, loss = 0.93389725\n",
            "Validation score: 0.603842\n",
            "Iteration 5, loss = 0.87779349\n",
            "Validation score: 0.605234\n",
            "Iteration 6, loss = 0.82895679\n",
            "Validation score: 0.618597\n",
            "Iteration 7, loss = 0.78659546\n",
            "Validation score: 0.621381\n",
            "Iteration 8, loss = 0.75762663\n",
            "Validation score: 0.621381\n",
            "Iteration 9, loss = 0.73690238\n",
            "Validation score: 0.677060\n",
            "Iteration 10, loss = 0.71988464\n",
            "Validation score: 0.676225\n",
            "Iteration 11, loss = 0.70697956\n",
            "Validation score: 0.678452\n",
            "Iteration 12, loss = 0.69542602\n",
            "Validation score: 0.678731\n",
            "Iteration 13, loss = 0.68608596\n",
            "Validation score: 0.685969\n",
            "Iteration 14, loss = 0.67740526\n",
            "Validation score: 0.685134\n",
            "Iteration 15, loss = 0.66833125\n",
            "Validation score: 0.697383\n",
            "Iteration 16, loss = 0.64324424\n",
            "Validation score: 0.778118\n",
            "Iteration 17, loss = 0.55969787\n",
            "Validation score: 0.806514\n",
            "Iteration 18, loss = 0.49240468\n",
            "Validation score: 0.813474\n",
            "Iteration 19, loss = 0.44645736\n",
            "Validation score: 0.812918\n",
            "Iteration 20, loss = 0.41247553\n",
            "Validation score: 0.810690\n",
            "Iteration 21, loss = 0.38676084\n",
            "Validation score: 0.809298\n",
            "Iteration 22, loss = 0.36529631\n",
            "Validation score: 0.809298\n",
            "Iteration 23, loss = 0.34825398\n",
            "Validation score: 0.793987\n",
            "Iteration 24, loss = 0.33512179\n",
            "Validation score: 0.779788\n",
            "Iteration 25, loss = 0.32328492\n",
            "Validation score: 0.768374\n",
            "Iteration 26, loss = 0.31377989\n",
            "Validation score: 0.756403\n",
            "Iteration 27, loss = 0.30609875\n",
            "Validation score: 0.753619\n",
            "Iteration 28, loss = 0.29812131\n",
            "Validation score: 0.744989\n",
            "Iteration 29, loss = 0.29154463\n",
            "Validation score: 0.746938\n",
            "Validation score did not improve more than tol=0.000100 for 10 consecutive epochs. Stopping.\n"
          ]
        },
        {
          "output_type": "execute_result",
          "data": {
            "text/plain": [
              "Pipeline(steps=[('bow',\n",
              "                 CountVectorizer(analyzer=<function process at 0x7ff83d306680>)),\n",
              "                ('tfidf', TfidfTransformer()),\n",
              "                ('classifier',\n",
              "                 MLPClassifier(early_stopping=True, hidden_layer_sizes=(100, 4),\n",
              "                               random_state=0, verbose=2))])"
            ]
          },
          "metadata": {},
          "execution_count": 74
        }
      ],
      "source": [
        "pipeline.fit(msg_train,label_train)"
      ]
    },
    {
      "cell_type": "code",
      "execution_count": null,
      "id": "6964fa04",
      "metadata": {
        "id": "6964fa04"
      },
      "outputs": [],
      "source": [
        "predictions = pipeline.predict(msg_test)  "
      ]
    },
    {
      "cell_type": "code",
      "execution_count": null,
      "id": "5050dba2",
      "metadata": {
        "colab": {
          "base_uri": "https://localhost:8080/"
        },
        "id": "5050dba2",
        "outputId": "7ba57435-d230-4323-fa05-e2d6eef4d990"
      },
      "outputs": [
        {
          "output_type": "stream",
          "name": "stdout",
          "text": [
            "[[   0    0    9    7    0  281    1    7]\n",
            " [   0    2    1  129    0   11    0    2]\n",
            " [   0    0 1687    0    2   99    7    5]\n",
            " [   0    4    0  133    0    7    0    3]\n",
            " [   0    0   48    6    0  863    1   15]\n",
            " [   0    0   66   16    2 1261    8   22]\n",
            " [   0    0    0    0    0    0 2202   49]\n",
            " [   0    0    1    0    0    0   44 1979]]\n"
          ]
        }
      ],
      "source": [
        "print(confusion_matrix(label_test, predictions))  "
      ]
    },
    {
      "cell_type": "code",
      "execution_count": null,
      "id": "ad65a848",
      "metadata": {
        "colab": {
          "base_uri": "https://localhost:8080/"
        },
        "id": "ad65a848",
        "outputId": "013f9350-4b16-4da0-ad22-0b8281378538"
      },
      "outputs": [
        {
          "output_type": "stream",
          "name": "stdout",
          "text": [
            "                 precision    recall  f1-score   support\n",
            "\n",
            "Government News       0.00      0.00      0.00       305\n",
            "    Middle-east       0.33      0.01      0.03       145\n",
            "           News       0.93      0.94      0.93      1800\n",
            "        US_News       0.46      0.90      0.61       147\n",
            "      left-news       0.00      0.00      0.00       933\n",
            "       politics       0.50      0.92      0.65      1375\n",
            "   politicsNews       0.97      0.98      0.98      2251\n",
            "      worldnews       0.95      0.98      0.96      2024\n",
            "\n",
            "       accuracy                           0.81      8980\n",
            "      macro avg       0.52      0.59      0.52      8980\n",
            "   weighted avg       0.73      0.81      0.76      8980\n",
            "\n"
          ]
        },
        {
          "output_type": "stream",
          "name": "stderr",
          "text": [
            "/usr/local/lib/python3.7/dist-packages/sklearn/metrics/_classification.py:1318: UndefinedMetricWarning: Precision and F-score are ill-defined and being set to 0.0 in labels with no predicted samples. Use `zero_division` parameter to control this behavior.\n",
            "  _warn_prf(average, modifier, msg_start, len(result))\n",
            "/usr/local/lib/python3.7/dist-packages/sklearn/metrics/_classification.py:1318: UndefinedMetricWarning: Precision and F-score are ill-defined and being set to 0.0 in labels with no predicted samples. Use `zero_division` parameter to control this behavior.\n",
            "  _warn_prf(average, modifier, msg_start, len(result))\n",
            "/usr/local/lib/python3.7/dist-packages/sklearn/metrics/_classification.py:1318: UndefinedMetricWarning: Precision and F-score are ill-defined and being set to 0.0 in labels with no predicted samples. Use `zero_division` parameter to control this behavior.\n",
            "  _warn_prf(average, modifier, msg_start, len(result))\n"
          ]
        }
      ],
      "source": [
        "print(classification_report(label_test, predictions))   "
      ]
    },
    {
      "cell_type": "code",
      "execution_count": null,
      "id": "4c812344",
      "metadata": {
        "id": "4c812344"
      },
      "outputs": [],
      "source": [
        ""
      ]
    }
  ],
  "metadata": {
    "kernelspec": {
      "display_name": "Python 3 (ipykernel)",
      "language": "python",
      "name": "python3"
    },
    "language_info": {
      "codemirror_mode": {
        "name": "ipython",
        "version": 3
      },
      "file_extension": ".py",
      "mimetype": "text/x-python",
      "name": "python",
      "nbconvert_exporter": "python",
      "pygments_lexer": "ipython3",
      "version": "3.9.7"
    },
    "colab": {
      "name": "Sahar_Sheikkholelsami_NLP.ipynb",
      "provenance": [],
      "include_colab_link": true
    }
  },
  "nbformat": 4,
  "nbformat_minor": 5
}